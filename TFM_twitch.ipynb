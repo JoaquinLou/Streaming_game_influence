{
 "cells": [
  {
   "cell_type": "markdown",
   "id": "f352230c-2886-44c7-b33c-53acdc023337",
   "metadata": {},
   "source": [
    "### TFM Streaming and video game industry"
   ]
  },
  {
   "cell_type": "code",
   "execution_count": 2,
   "id": "d48c2ba8-0cf4-4e86-9fe5-897e523a3237",
   "metadata": {},
   "outputs": [
    {
     "name": "stdout",
     "output_type": "stream",
     "text": [
      "Requirement already satisfied: requests in /home/dsc/anaconda3/envs/tfm/lib/python3.9/site-packages (2.25.1)\n",
      "Requirement already satisfied: chardet<5,>=3.0.2 in /home/dsc/anaconda3/envs/tfm/lib/python3.9/site-packages (from requests) (4.0.0)\n",
      "Requirement already satisfied: idna<3,>=2.5 in /home/dsc/anaconda3/envs/tfm/lib/python3.9/site-packages (from requests) (2.10)\n",
      "Requirement already satisfied: urllib3<1.27,>=1.21.1 in /home/dsc/anaconda3/envs/tfm/lib/python3.9/site-packages (from requests) (1.26.4)\n",
      "Requirement already satisfied: certifi>=2017.4.17 in /home/dsc/anaconda3/envs/tfm/lib/python3.9/site-packages (from requests) (2020.12.5)\n",
      "Note: you may need to restart the kernel to use updated packages.\n"
     ]
    }
   ],
   "source": [
    "pip install requests"
   ]
  },
  {
   "cell_type": "code",
   "execution_count": 4,
   "id": "63049ff2-cd06-4cb9-b9ad-c228e15fea92",
   "metadata": {},
   "outputs": [
    {
     "name": "stdout",
     "output_type": "stream",
     "text": [
      "Collecting beautifulsoup4\n",
      "  Downloading beautifulsoup4-4.9.3-py3-none-any.whl (115 kB)\n",
      "\u001b[K     |████████████████████████████████| 115 kB 3.0 MB/s eta 0:00:01\n",
      "\u001b[?25hCollecting soupsieve>1.2\n",
      "  Downloading soupsieve-2.2.1-py3-none-any.whl (33 kB)\n",
      "Installing collected packages: soupsieve, beautifulsoup4\n",
      "Successfully installed beautifulsoup4-4.9.3 soupsieve-2.2.1\n",
      "Note: you may need to restart the kernel to use updated packages.\n"
     ]
    }
   ],
   "source": [
    "pip install beautifulsoup4"
   ]
  },
  {
   "cell_type": "code",
   "execution_count": 7,
   "id": "e50f57dc-bb33-4847-b125-33fdc7365344",
   "metadata": {},
   "outputs": [
    {
     "name": "stdout",
     "output_type": "stream",
     "text": [
      "Collecting lxml\n",
      "  Downloading lxml-4.6.3-cp39-cp39-manylinux2014_x86_64.whl (6.9 MB)\n",
      "\u001b[K     |████████████████████████████████| 6.9 MB 4.1 MB/s eta 0:00:01\n",
      "\u001b[?25hInstalling collected packages: lxml\n",
      "Successfully installed lxml-4.6.3\n",
      "Note: you may need to restart the kernel to use updated packages.\n"
     ]
    }
   ],
   "source": [
    "pip install lxml"
   ]
  },
  {
   "cell_type": "markdown",
   "id": "899f7ee4-1005-4e3b-acc4-3836073f5e25",
   "metadata": {},
   "source": [
    "Importamos las librerias"
   ]
  },
  {
   "cell_type": "code",
   "execution_count": 1,
   "id": "326dc009-f0a8-45f6-a14c-ec78a61fd03d",
   "metadata": {
    "tags": []
   },
   "outputs": [],
   "source": [
    "import requests\n",
    "from bs4 import BeautifulSoup\n",
    "\n",
    "import pandas as pd\n",
    "import numpy as np"
   ]
  },
  {
   "cell_type": "markdown",
   "id": "ea1529b4-5da2-4710-830a-3d611bd7dde7",
   "metadata": {},
   "source": [
    "page_content = BeautifulSoup(page.content, 'html.parser') #creamos los datos de la web\n",
    "\n",
    "gamedata = []\n",
    "\n",
    "gamedata = page_content.find_all(\"tr\") #capturamos todas las filas de la tabla\n",
    "for row in gamedata[3:]: #nos saltamos las primeras rows para no coger cabeceras\n",
    "    gamedataHtml = row.find_all(\"td\")[]"
   ]
  },
  {
   "cell_type": "markdown",
   "id": "aa5ac4d2-796b-42dc-b283-b6e5b2cb1f0a",
   "metadata": {},
   "source": [
    "Escrapeamos a web donde extraeremos los datos de los videojuegos más vistos en streaming"
   ]
  },
  {
   "cell_type": "markdown",
   "id": "e7cff150-fd29-43a5-b1aa-d537b8a6656c",
   "metadata": {},
   "source": [
    "url = 'https://sullygnome.com/games/2020/watched'\n",
    "\n",
    "page = requests.get(url) #leemos la web y colocamos timeout en caso de fallo\n",
    "\n",
    "page_content = BeautifulSoup(page.content, 'html.parser') #creamos los datos de la web\n",
    "\n",
    "streamdata = []\n",
    "\n",
    "streamdata = page_content.find_all(\"tr\") #capturamos todas las filas de la tabla\n",
    "for row in streamdata[3:]: #nos saltamos las primeras rows para no coger cabeceras  \n",
    "    streamdataName = row.find(\"a\").text\n",
    "    streamdataHtml = row.find_all(\"td\")[3:]\n",
    "    streamdataArray = map(lambda data: data.text, streamdataHtml) #capturamos los textos de cada td\n",
    "    print(streamdataName, streamdataArray)\n",
    "    "
   ]
  },
  {
   "cell_type": "markdown",
   "id": "0633d209-a5f8-4133-9ad3-45fa57c1fb9d",
   "metadata": {},
   "source": [
    "page"
   ]
  },
  {
   "cell_type": "markdown",
   "id": "2e6cf198-224f-47ce-9259-a2b672144fe7",
   "metadata": {},
   "source": [
    "Devuelve muchos errores las web que intentamo scrapear. Scrapeamos la web con formato de ventas totales de donde extraeremos los datos de ventas de videojuegos "
   ]
  },
  {
   "cell_type": "code",
   "execution_count": 16,
   "id": "0c7deec6-b194-45cd-9829-b458c57c54f2",
   "metadata": {},
   "outputs": [],
   "source": [
    "url = 'http://www.vgchartz.com/yearly/2020/Global/'\n",
    "\n",
    "page = requests.get(url) #leemos la web y colocamos timeout en caso de fallo"
   ]
  },
  {
   "cell_type": "code",
   "execution_count": 17,
   "id": "38a940d8-8f3f-416f-9094-9c9846dea042",
   "metadata": {},
   "outputs": [
    {
     "data": {
      "text/plain": [
       "200"
      ]
     },
     "execution_count": 17,
     "metadata": {},
     "output_type": "execute_result"
    }
   ],
   "source": [
    "page.status_code"
   ]
  },
  {
   "cell_type": "code",
   "execution_count": 18,
   "id": "187e724f-4f3e-45a7-85d1-5d1bf317b716",
   "metadata": {},
   "outputs": [],
   "source": [
    "tables = pd.read_html(url)"
   ]
  },
  {
   "cell_type": "code",
   "execution_count": 19,
   "id": "c3013a7e-5445-4035-b526-131cff039edb",
   "metadata": {},
   "outputs": [
    {
     "data": {
      "text/html": [
       "<div>\n",
       "<style scoped>\n",
       "    .dataframe tbody tr th:only-of-type {\n",
       "        vertical-align: middle;\n",
       "    }\n",
       "\n",
       "    .dataframe tbody tr th {\n",
       "        vertical-align: top;\n",
       "    }\n",
       "\n",
       "    .dataframe thead th {\n",
       "        text-align: right;\n",
       "    }\n",
       "</style>\n",
       "<table border=\"1\" class=\"dataframe\">\n",
       "  <thead>\n",
       "    <tr style=\"text-align: right;\">\n",
       "      <th></th>\n",
       "      <th>Pos</th>\n",
       "      <th>Game</th>\n",
       "      <th>Game.1</th>\n",
       "      <th>Game.2</th>\n",
       "      <th>Weeks</th>\n",
       "      <th>Yearly</th>\n",
       "      <th>Total</th>\n",
       "    </tr>\n",
       "  </thead>\n",
       "  <tbody>\n",
       "    <tr>\n",
       "      <th>0</th>\n",
       "      <td>1</td>\n",
       "      <td>Red Dead Redemption 2 (PS4)Take-Two Interactiv...</td>\n",
       "      <td>Red Dead Redemption 2 (PS4)Take-Two Interactiv...</td>\n",
       "      <td>Red Dead Redemption 2 (PS4)Take-Two Interactiv...</td>\n",
       "      <td>10</td>\n",
       "      <td>13940203</td>\n",
       "      <td>13940203</td>\n",
       "    </tr>\n",
       "    <tr>\n",
       "      <th>1</th>\n",
       "      <td>2</td>\n",
       "      <td>Call of Duty: Black Ops IIII (PS4)Activision, ...</td>\n",
       "      <td>Call of Duty: Black Ops IIII (PS4)Activision, ...</td>\n",
       "      <td>Call of Duty: Black Ops IIII (PS4)Activision, ...</td>\n",
       "      <td>12</td>\n",
       "      <td>9317241</td>\n",
       "      <td>9317241</td>\n",
       "    </tr>\n",
       "    <tr>\n",
       "      <th>2</th>\n",
       "      <td>3</td>\n",
       "      <td>FIFA 19 (PS4)Electronic Arts, Sports</td>\n",
       "      <td>FIFA 19 (PS4)Electronic Arts, Sports</td>\n",
       "      <td>FIFA 19 (PS4)Electronic Arts, Sports</td>\n",
       "      <td>14</td>\n",
       "      <td>9147505</td>\n",
       "      <td>9147505</td>\n",
       "    </tr>\n",
       "    <tr>\n",
       "      <th>3</th>\n",
       "      <td>4</td>\n",
       "      <td>Super Smash Bros. (2018) (NS)Nintendo, Fighting</td>\n",
       "      <td>Super Smash Bros. (2018) (NS)Nintendo, Fighting</td>\n",
       "      <td>Super Smash Bros. (2018) (NS)Nintendo, Fighting</td>\n",
       "      <td>4</td>\n",
       "      <td>8951009</td>\n",
       "      <td>8951009</td>\n",
       "    </tr>\n",
       "    <tr>\n",
       "      <th>4</th>\n",
       "      <td>5</td>\n",
       "      <td>Spider-Man (PS4) (PS4)Sony Interactive Enterta...</td>\n",
       "      <td>Spider-Man (PS4) (PS4)Sony Interactive Enterta...</td>\n",
       "      <td>Spider-Man (PS4) (PS4)Sony Interactive Enterta...</td>\n",
       "      <td>17</td>\n",
       "      <td>8757859</td>\n",
       "      <td>8757859</td>\n",
       "    </tr>\n",
       "    <tr>\n",
       "      <th>...</th>\n",
       "      <td>...</td>\n",
       "      <td>...</td>\n",
       "      <td>...</td>\n",
       "      <td>...</td>\n",
       "      <td>...</td>\n",
       "      <td>...</td>\n",
       "      <td>...</td>\n",
       "    </tr>\n",
       "    <tr>\n",
       "      <th>95</th>\n",
       "      <td>96</td>\n",
       "      <td>Farming Simulator 19 (PC)Focus Home Interactiv...</td>\n",
       "      <td>Farming Simulator 19 (PC)Focus Home Interactiv...</td>\n",
       "      <td>Farming Simulator 19 (PC)Focus Home Interactiv...</td>\n",
       "      <td>6</td>\n",
       "      <td>583425</td>\n",
       "      <td>583425</td>\n",
       "    </tr>\n",
       "    <tr>\n",
       "      <th>96</th>\n",
       "      <td>97</td>\n",
       "      <td>Bayonetta 2 (NS)Nintendo, Action</td>\n",
       "      <td>Bayonetta 2 (NS)Nintendo, Action</td>\n",
       "      <td>Bayonetta 2 (NS)Nintendo, Action</td>\n",
       "      <td>46</td>\n",
       "      <td>573643</td>\n",
       "      <td>573643</td>\n",
       "    </tr>\n",
       "    <tr>\n",
       "      <th>97</th>\n",
       "      <td>98</td>\n",
       "      <td>Fallout 4 (PS4)Bethesda Softworks, Role-Playing</td>\n",
       "      <td>Fallout 4 (PS4)Bethesda Softworks, Role-Playing</td>\n",
       "      <td>Fallout 4 (PS4)Bethesda Softworks, Role-Playing</td>\n",
       "      <td>164</td>\n",
       "      <td>568545</td>\n",
       "      <td>8480129</td>\n",
       "    </tr>\n",
       "    <tr>\n",
       "      <th>98</th>\n",
       "      <td>99</td>\n",
       "      <td>Starlink: Battle for Atlas (NS)Ubisoft, Action...</td>\n",
       "      <td>Starlink: Battle for Atlas (NS)Ubisoft, Action...</td>\n",
       "      <td>Starlink: Battle for Atlas (NS)Ubisoft, Action...</td>\n",
       "      <td>11</td>\n",
       "      <td>567755</td>\n",
       "      <td>567755</td>\n",
       "    </tr>\n",
       "    <tr>\n",
       "      <th>99</th>\n",
       "      <td>100</td>\n",
       "      <td>Assassin's Creed Origins (XOne)Ubisoft, Action</td>\n",
       "      <td>Assassin's Creed Origins (XOne)Ubisoft, Action</td>\n",
       "      <td>Assassin's Creed Origins (XOne)Ubisoft, Action</td>\n",
       "      <td>62</td>\n",
       "      <td>560485</td>\n",
       "      <td>2474124</td>\n",
       "    </tr>\n",
       "  </tbody>\n",
       "</table>\n",
       "<p>100 rows × 7 columns</p>\n",
       "</div>"
      ],
      "text/plain": [
       "    Pos                                               Game  \\\n",
       "0     1  Red Dead Redemption 2 (PS4)Take-Two Interactiv...   \n",
       "1     2  Call of Duty: Black Ops IIII (PS4)Activision, ...   \n",
       "2     3               FIFA 19 (PS4)Electronic Arts, Sports   \n",
       "3     4    Super Smash Bros. (2018) (NS)Nintendo, Fighting   \n",
       "4     5  Spider-Man (PS4) (PS4)Sony Interactive Enterta...   \n",
       "..  ...                                                ...   \n",
       "95   96  Farming Simulator 19 (PC)Focus Home Interactiv...   \n",
       "96   97                   Bayonetta 2 (NS)Nintendo, Action   \n",
       "97   98    Fallout 4 (PS4)Bethesda Softworks, Role-Playing   \n",
       "98   99  Starlink: Battle for Atlas (NS)Ubisoft, Action...   \n",
       "99  100     Assassin's Creed Origins (XOne)Ubisoft, Action   \n",
       "\n",
       "                                               Game.1  \\\n",
       "0   Red Dead Redemption 2 (PS4)Take-Two Interactiv...   \n",
       "1   Call of Duty: Black Ops IIII (PS4)Activision, ...   \n",
       "2                FIFA 19 (PS4)Electronic Arts, Sports   \n",
       "3     Super Smash Bros. (2018) (NS)Nintendo, Fighting   \n",
       "4   Spider-Man (PS4) (PS4)Sony Interactive Enterta...   \n",
       "..                                                ...   \n",
       "95  Farming Simulator 19 (PC)Focus Home Interactiv...   \n",
       "96                   Bayonetta 2 (NS)Nintendo, Action   \n",
       "97    Fallout 4 (PS4)Bethesda Softworks, Role-Playing   \n",
       "98  Starlink: Battle for Atlas (NS)Ubisoft, Action...   \n",
       "99     Assassin's Creed Origins (XOne)Ubisoft, Action   \n",
       "\n",
       "                                               Game.2  Weeks    Yearly  \\\n",
       "0   Red Dead Redemption 2 (PS4)Take-Two Interactiv...     10  13940203   \n",
       "1   Call of Duty: Black Ops IIII (PS4)Activision, ...     12   9317241   \n",
       "2                FIFA 19 (PS4)Electronic Arts, Sports     14   9147505   \n",
       "3     Super Smash Bros. (2018) (NS)Nintendo, Fighting      4   8951009   \n",
       "4   Spider-Man (PS4) (PS4)Sony Interactive Enterta...     17   8757859   \n",
       "..                                                ...    ...       ...   \n",
       "95  Farming Simulator 19 (PC)Focus Home Interactiv...      6    583425   \n",
       "96                   Bayonetta 2 (NS)Nintendo, Action     46    573643   \n",
       "97    Fallout 4 (PS4)Bethesda Softworks, Role-Playing    164    568545   \n",
       "98  Starlink: Battle for Atlas (NS)Ubisoft, Action...     11    567755   \n",
       "99     Assassin's Creed Origins (XOne)Ubisoft, Action     62    560485   \n",
       "\n",
       "       Total  \n",
       "0   13940203  \n",
       "1    9317241  \n",
       "2    9147505  \n",
       "3    8951009  \n",
       "4    8757859  \n",
       "..       ...  \n",
       "95    583425  \n",
       "96    573643  \n",
       "97   8480129  \n",
       "98    567755  \n",
       "99   2474124  \n",
       "\n",
       "[100 rows x 7 columns]"
      ]
     },
     "execution_count": 19,
     "metadata": {},
     "output_type": "execute_result"
    }
   ],
   "source": [
    "tables[1]"
   ]
  },
  {
   "cell_type": "code",
   "execution_count": null,
   "id": "8a56d400-be1c-4260-a77a-2b39d1ec42c4",
   "metadata": {},
   "outputs": [],
   "source": []
  },
  {
   "cell_type": "code",
   "execution_count": null,
   "id": "6681bfb6-b15e-4d27-a3ae-d91fcee10c2d",
   "metadata": {},
   "outputs": [],
   "source": []
  }
 ],
 "metadata": {
  "kernelspec": {
   "display_name": "Python 3",
   "language": "python",
   "name": "python3"
  },
  "language_info": {
   "codemirror_mode": {
    "name": "ipython",
    "version": 3
   },
   "file_extension": ".py",
   "mimetype": "text/x-python",
   "name": "python",
   "nbconvert_exporter": "python",
   "pygments_lexer": "ipython3",
   "version": "3.9.4"
  }
 },
 "nbformat": 4,
 "nbformat_minor": 5
}
