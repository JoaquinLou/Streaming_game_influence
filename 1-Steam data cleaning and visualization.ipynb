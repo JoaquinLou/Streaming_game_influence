{
 "cells": [
  {
   "cell_type": "markdown",
   "id": "b4ba0a00-7d35-4474-8a76-d79d143abbe6",
   "metadata": {},
   "source": [
    "# Steam Data"
   ]
  },
  {
   "cell_type": "markdown",
   "id": "48d1bc3d-6143-4c13-a3f0-661c32c347a6",
   "metadata": {},
   "source": [
    "En este notebook vamos a trabajar con los datos de la plataforma de videojuegos Steam. Los datos de esta plataforma no son facilmente accesibles a través de su API ya que es bastante limitada. \n",
    "En este proyecto se van a necesitar datos desde historicos que la API no nos puede proporcionar pero sí que hay usuarios que han ido recopilando estos datos durante muchos. Es el caso de este repositorio de Kaggle donde hemos encontrado los datos suficientes para realizar el proyecto: https://www.kaggle.com/michau96/popularity-of-games-on-steam\n",
    "Vamos a analizarlos y a ver qué es lo que contiene"
   ]
  },
  {
   "cell_type": "markdown",
   "id": "bbeec9de-e8d2-4803-99b8-ec1f3e334eb3",
   "metadata": {},
   "source": [
    "Importamos las librerías necesarias para analizar los datos"
   ]
  },
  {
   "cell_type": "code",
   "execution_count": 1,
   "id": "7fa2e300-2942-409c-8e3c-558a5c13e33b",
   "metadata": {},
   "outputs": [],
   "source": [
    "import seaborn as sns\n",
    "import pandas as pd\n",
    "import numpy as np\n",
    "import matplotlib.pyplot as plt\n",
    "import datetime as dt\n",
    "from sklearn.linear_model import LinearRegression\n",
    "import missingno as msno"
   ]
  },
  {
   "cell_type": "code",
   "execution_count": 2,
   "id": "6e8e2e8c-3412-4150-9195-52000bd947b4",
   "metadata": {},
   "outputs": [],
   "source": [
    "#Ampliamos el texto de nuestros gráficos para verlos mejor\n",
    "plt.rcParams.update({'font.size': 16})"
   ]
  },
  {
   "cell_type": "markdown",
   "id": "3a70dcbb-f4cd-466d-aab2-5d83b586ce58",
   "metadata": {},
   "source": [
    "Leemos nuestro documento del que vamos a extraer los datos con un encoding de latin para evitar errores. Usamos este encoding ya que sin usarlos aparecían errores y caracteres Unicode que luego dificultaban la unión con otros datasets"
   ]
  },
  {
   "cell_type": "code",
   "execution_count": 3,
   "id": "8456678a-d0d8-4161-bcf4-dc7cffbf00be",
   "metadata": {},
   "outputs": [],
   "source": [
    "df_steam = pd.read_csv('Popularity_games_Steam_Charts.csv', encoding='latin-1')"
   ]
  },
  {
   "cell_type": "markdown",
   "id": "d8990809-fefc-4f36-bdb4-44d4b249dbaa",
   "metadata": {},
   "source": [
    "Hacemos un analisis exploratorio de los datos para ve qué contienen"
   ]
  },
  {
   "cell_type": "code",
   "execution_count": 4,
   "id": "e1cca54f-b17f-43e6-9f60-b048fc70e4ab",
   "metadata": {},
   "outputs": [
    {
     "name": "stdout",
     "output_type": "stream",
     "text": [
      "<class 'pandas.core.frame.DataFrame'>\n",
      "RangeIndex: 83789 entries, 0 to 83788\n",
      "Data columns (total 7 columns):\n",
      " #   Column         Non-Null Count  Dtype  \n",
      "---  ------         --------------  -----  \n",
      " 0   gamename       83789 non-null  object \n",
      " 1   year           83789 non-null  int64  \n",
      " 2   month          83789 non-null  object \n",
      " 3   avg            83789 non-null  float64\n",
      " 4   gain           82529 non-null  float64\n",
      " 5   peak           83789 non-null  int64  \n",
      " 6   avg_peak_perc  83789 non-null  object \n",
      "dtypes: float64(2), int64(2), object(3)\n",
      "memory usage: 4.5+ MB\n"
     ]
    }
   ],
   "source": [
    "df_steam.info()"
   ]
  },
  {
   "cell_type": "markdown",
   "id": "9b4d2d2e-cfeb-406c-b18b-c1ca737e52a3",
   "metadata": {},
   "source": [
    "Tamaño del dataset"
   ]
  },
  {
   "cell_type": "code",
   "execution_count": 5,
   "id": "f510def5-68e1-4df2-b4c6-26d280235632",
   "metadata": {},
   "outputs": [
    {
     "data": {
      "text/plain": [
       "(83789, 7)"
      ]
     },
     "execution_count": 5,
     "metadata": {},
     "output_type": "execute_result"
    }
   ],
   "source": [
    "df_steam.shape"
   ]
  },
  {
   "cell_type": "code",
   "execution_count": 6,
   "id": "df76634b-379f-44d9-a39a-d5c4e01733a1",
   "metadata": {},
   "outputs": [
    {
     "data": {
      "text/html": [
       "<div>\n",
       "<style scoped>\n",
       "    .dataframe tbody tr th:only-of-type {\n",
       "        vertical-align: middle;\n",
       "    }\n",
       "\n",
       "    .dataframe tbody tr th {\n",
       "        vertical-align: top;\n",
       "    }\n",
       "\n",
       "    .dataframe thead th {\n",
       "        text-align: right;\n",
       "    }\n",
       "</style>\n",
       "<table border=\"1\" class=\"dataframe\">\n",
       "  <thead>\n",
       "    <tr style=\"text-align: right;\">\n",
       "      <th></th>\n",
       "      <th>gamename</th>\n",
       "      <th>year</th>\n",
       "      <th>month</th>\n",
       "      <th>avg</th>\n",
       "      <th>gain</th>\n",
       "      <th>peak</th>\n",
       "      <th>avg_peak_perc</th>\n",
       "    </tr>\n",
       "  </thead>\n",
       "  <tbody>\n",
       "    <tr>\n",
       "      <th>0</th>\n",
       "      <td>Counter-Strike: Global Offensive</td>\n",
       "      <td>2021</td>\n",
       "      <td>February</td>\n",
       "      <td>741013.24</td>\n",
       "      <td>-2196.42</td>\n",
       "      <td>1123485</td>\n",
       "      <td>65.9567%</td>\n",
       "    </tr>\n",
       "    <tr>\n",
       "      <th>1</th>\n",
       "      <td>Counter-Strike: Global Offensive</td>\n",
       "      <td>2021</td>\n",
       "      <td>January</td>\n",
       "      <td>743209.66</td>\n",
       "      <td>25405.91</td>\n",
       "      <td>1124553</td>\n",
       "      <td>66.0893%</td>\n",
       "    </tr>\n",
       "    <tr>\n",
       "      <th>2</th>\n",
       "      <td>Counter-Strike: Global Offensive</td>\n",
       "      <td>2020</td>\n",
       "      <td>December</td>\n",
       "      <td>717803.75</td>\n",
       "      <td>49049.17</td>\n",
       "      <td>1164396</td>\n",
       "      <td>61.646%</td>\n",
       "    </tr>\n",
       "    <tr>\n",
       "      <th>3</th>\n",
       "      <td>Counter-Strike: Global Offensive</td>\n",
       "      <td>2020</td>\n",
       "      <td>November</td>\n",
       "      <td>668754.58</td>\n",
       "      <td>55087.89</td>\n",
       "      <td>1037464</td>\n",
       "      <td>64.4605%</td>\n",
       "    </tr>\n",
       "    <tr>\n",
       "      <th>4</th>\n",
       "      <td>Counter-Strike: Global Offensive</td>\n",
       "      <td>2020</td>\n",
       "      <td>October</td>\n",
       "      <td>613666.69</td>\n",
       "      <td>6816.37</td>\n",
       "      <td>943876</td>\n",
       "      <td>65.0156%</td>\n",
       "    </tr>\n",
       "  </tbody>\n",
       "</table>\n",
       "</div>"
      ],
      "text/plain": [
       "                           gamename  year      month        avg      gain  \\\n",
       "0  Counter-Strike: Global Offensive  2021  February   741013.24  -2196.42   \n",
       "1  Counter-Strike: Global Offensive  2021   January   743209.66  25405.91   \n",
       "2  Counter-Strike: Global Offensive  2020  December   717803.75  49049.17   \n",
       "3  Counter-Strike: Global Offensive  2020  November   668754.58  55087.89   \n",
       "4  Counter-Strike: Global Offensive  2020   October   613666.69   6816.37   \n",
       "\n",
       "      peak avg_peak_perc  \n",
       "0  1123485      65.9567%  \n",
       "1  1124553      66.0893%  \n",
       "2  1164396       61.646%  \n",
       "3  1037464      64.4605%  \n",
       "4   943876      65.0156%  "
      ]
     },
     "execution_count": 6,
     "metadata": {},
     "output_type": "execute_result"
    }
   ],
   "source": [
    "df_steam.head()"
   ]
  },
  {
   "cell_type": "code",
   "execution_count": 7,
   "id": "92dac0e9-8792-43b0-9c02-bcec5246a704",
   "metadata": {},
   "outputs": [
    {
     "data": {
      "text/html": [
       "<div>\n",
       "<style scoped>\n",
       "    .dataframe tbody tr th:only-of-type {\n",
       "        vertical-align: middle;\n",
       "    }\n",
       "\n",
       "    .dataframe tbody tr th {\n",
       "        vertical-align: top;\n",
       "    }\n",
       "\n",
       "    .dataframe thead th {\n",
       "        text-align: right;\n",
       "    }\n",
       "</style>\n",
       "<table border=\"1\" class=\"dataframe\">\n",
       "  <thead>\n",
       "    <tr style=\"text-align: right;\">\n",
       "      <th></th>\n",
       "      <th>year</th>\n",
       "      <th>avg</th>\n",
       "      <th>gain</th>\n",
       "      <th>peak</th>\n",
       "    </tr>\n",
       "  </thead>\n",
       "  <tbody>\n",
       "    <tr>\n",
       "      <th>count</th>\n",
       "      <td>83789.00000</td>\n",
       "      <td>83789.00000</td>\n",
       "      <td>82529.00000</td>\n",
       "      <td>83789.00000</td>\n",
       "    </tr>\n",
       "    <tr>\n",
       "      <th>mean</th>\n",
       "      <td>2017.33871</td>\n",
       "      <td>2792.01701</td>\n",
       "      <td>-10.24556</td>\n",
       "      <td>5518.87691</td>\n",
       "    </tr>\n",
       "    <tr>\n",
       "      <th>std</th>\n",
       "      <td>2.23759</td>\n",
       "      <td>26484.80416</td>\n",
       "      <td>3789.94401</td>\n",
       "      <td>50155.70591</td>\n",
       "    </tr>\n",
       "    <tr>\n",
       "      <th>min</th>\n",
       "      <td>2012.00000</td>\n",
       "      <td>0.00000</td>\n",
       "      <td>-250248.99000</td>\n",
       "      <td>0.00000</td>\n",
       "    </tr>\n",
       "    <tr>\n",
       "      <th>25%</th>\n",
       "      <td>2016.00000</td>\n",
       "      <td>53.25000</td>\n",
       "      <td>-38.31000</td>\n",
       "      <td>138.00000</td>\n",
       "    </tr>\n",
       "    <tr>\n",
       "      <th>50%</th>\n",
       "      <td>2018.00000</td>\n",
       "      <td>204.27000</td>\n",
       "      <td>-1.63000</td>\n",
       "      <td>502.00000</td>\n",
       "    </tr>\n",
       "    <tr>\n",
       "      <th>75%</th>\n",
       "      <td>2019.00000</td>\n",
       "      <td>771.65000</td>\n",
       "      <td>22.32000</td>\n",
       "      <td>1741.00000</td>\n",
       "    </tr>\n",
       "    <tr>\n",
       "      <th>max</th>\n",
       "      <td>2021.00000</td>\n",
       "      <td>1584886.77000</td>\n",
       "      <td>426446.12000</td>\n",
       "      <td>3236027.00000</td>\n",
       "    </tr>\n",
       "  </tbody>\n",
       "</table>\n",
       "</div>"
      ],
      "text/plain": [
       "              year            avg           gain           peak\n",
       "count  83789.00000    83789.00000    82529.00000    83789.00000\n",
       "mean    2017.33871     2792.01701      -10.24556     5518.87691\n",
       "std        2.23759    26484.80416     3789.94401    50155.70591\n",
       "min     2012.00000        0.00000  -250248.99000        0.00000\n",
       "25%     2016.00000       53.25000      -38.31000      138.00000\n",
       "50%     2018.00000      204.27000       -1.63000      502.00000\n",
       "75%     2019.00000      771.65000       22.32000     1741.00000\n",
       "max     2021.00000  1584886.77000   426446.12000  3236027.00000"
      ]
     },
     "execution_count": 7,
     "metadata": {},
     "output_type": "execute_result"
    }
   ],
   "source": [
    "df_steam.describe().apply(lambda s: s.apply('{0:.5f}'.format))"
   ]
  },
  {
   "cell_type": "markdown",
   "id": "9a710161-d260-4e81-b6f4-e2bc2dd2abf7",
   "metadata": {},
   "source": [
    "Vemos los valores que faltan"
   ]
  },
  {
   "cell_type": "code",
   "execution_count": 8,
   "id": "836ecb91-65fc-421e-839f-da07e3c2ee0a",
   "metadata": {},
   "outputs": [
    {
     "data": {
      "text/plain": [
       "<AxesSubplot:>"
      ]
     },
     "execution_count": 8,
     "metadata": {},
     "output_type": "execute_result"
    },
    {
     "data": {
      "image/png": "[encoded data removed]",
      "text/plain": [
       "<Figure size 1800x720 with 2 Axes>"
      ]
     },
     "metadata": {
      "needs_background": "light"
     },
     "output_type": "display_data"
    }
   ],
   "source": [
    "%matplotlib inline\n",
    "msno.matrix(df_steam.sample(1000))"
   ]
  },
  {
   "cell_type": "code",
   "execution_count": 9,
   "id": "20178e78-82fa-4c4e-97cf-98bc448a212f",
   "metadata": {},
   "outputs": [
    {
     "name": "stdout",
     "output_type": "stream",
     "text": [
      "Los valores vacíos de la columna gain representan un 1.5 % de los valores totales\n"
     ]
    }
   ],
   "source": [
    "nan_values = ((df_steam['gain'].isna().sum()/len(df_steam))*100).round(2)\n",
    "print('Los valores vacíos de la columna gain representan un {} % de los valores totales'.format(nan_values))"
   ]
  },
  {
   "cell_type": "markdown",
   "id": "b3997afa-9269-4367-af61-8beb8fedee56",
   "metadata": {},
   "source": [
    "Analizamos cuales son los datos que faltan"
   ]
  },
  {
   "cell_type": "code",
   "execution_count": 10,
   "id": "0986a838-71fa-4cbb-8bf5-2d7dd5f7b4e6",
   "metadata": {},
   "outputs": [
    {
     "data": {
      "text/plain": [
       "gamename            0\n",
       "year                0\n",
       "month               0\n",
       "avg                 0\n",
       "gain             1260\n",
       "peak                0\n",
       "avg_peak_perc       0\n",
       "dtype: int64"
      ]
     },
     "execution_count": 10,
     "metadata": {},
     "output_type": "execute_result"
    }
   ],
   "source": [
    "df_steam.isna().sum()"
   ]
  },
  {
   "cell_type": "markdown",
   "id": "fb93fd8d-86da-49b0-ae58-44d22b4fec5e",
   "metadata": {},
   "source": [
    "Vemos que todas pertenecen a la columna de gain. Vamos a mostrar las filas con esos valores"
   ]
  },
  {
   "cell_type": "code",
   "execution_count": 11,
   "id": "ce8aa503-b751-48f5-a105-6d068b823679",
   "metadata": {},
   "outputs": [
    {
     "data": {
      "text/html": [
       "<div>\n",
       "<style scoped>\n",
       "    .dataframe tbody tr th:only-of-type {\n",
       "        vertical-align: middle;\n",
       "    }\n",
       "\n",
       "    .dataframe tbody tr th {\n",
       "        vertical-align: top;\n",
       "    }\n",
       "\n",
       "    .dataframe thead th {\n",
       "        text-align: right;\n",
       "    }\n",
       "</style>\n",
       "<table border=\"1\" class=\"dataframe\">\n",
       "  <thead>\n",
       "    <tr style=\"text-align: right;\">\n",
       "      <th></th>\n",
       "      <th>gamename</th>\n",
       "      <th>year</th>\n",
       "      <th>month</th>\n",
       "      <th>avg</th>\n",
       "      <th>gain</th>\n",
       "      <th>peak</th>\n",
       "      <th>avg_peak_perc</th>\n",
       "    </tr>\n",
       "  </thead>\n",
       "  <tbody>\n",
       "    <tr>\n",
       "      <th>103</th>\n",
       "      <td>Counter-Strike: Global Offensive</td>\n",
       "      <td>2012</td>\n",
       "      <td>July</td>\n",
       "      <td>932.57</td>\n",
       "      <td>NaN</td>\n",
       "      <td>1642</td>\n",
       "      <td>56.7948%</td>\n",
       "    </tr>\n",
       "    <tr>\n",
       "      <th>207</th>\n",
       "      <td>Dota 2</td>\n",
       "      <td>2012</td>\n",
       "      <td>July</td>\n",
       "      <td>52721.05</td>\n",
       "      <td>NaN</td>\n",
       "      <td>75041</td>\n",
       "      <td>70.2563%</td>\n",
       "    </tr>\n",
       "    <tr>\n",
       "      <th>255</th>\n",
       "      <td>PLAYERUNKNOWN'S BATTLEGROUNDS</td>\n",
       "      <td>2017</td>\n",
       "      <td>March</td>\n",
       "      <td>17551.14</td>\n",
       "      <td>NaN</td>\n",
       "      <td>67846</td>\n",
       "      <td>25.8691%</td>\n",
       "    </tr>\n",
       "    <tr>\n",
       "      <th>259</th>\n",
       "      <td>Apex Legends</td>\n",
       "      <td>2020</td>\n",
       "      <td>November</td>\n",
       "      <td>74957.26</td>\n",
       "      <td>NaN</td>\n",
       "      <td>117193</td>\n",
       "      <td>63.9605%</td>\n",
       "    </tr>\n",
       "    <tr>\n",
       "      <th>346</th>\n",
       "      <td>Rust</td>\n",
       "      <td>2013</td>\n",
       "      <td>December</td>\n",
       "      <td>9205.77</td>\n",
       "      <td>NaN</td>\n",
       "      <td>22571</td>\n",
       "      <td>40.7858%</td>\n",
       "    </tr>\n",
       "    <tr>\n",
       "      <th>450</th>\n",
       "      <td>Team Fortress 2</td>\n",
       "      <td>2012</td>\n",
       "      <td>July</td>\n",
       "      <td>45566.90</td>\n",
       "      <td>NaN</td>\n",
       "      <td>62321</td>\n",
       "      <td>73.1164%</td>\n",
       "    </tr>\n",
       "    <tr>\n",
       "      <th>521</th>\n",
       "      <td>Grand Theft Auto V</td>\n",
       "      <td>2015</td>\n",
       "      <td>April</td>\n",
       "      <td>192714.01</td>\n",
       "      <td>NaN</td>\n",
       "      <td>360761</td>\n",
       "      <td>53.4187%</td>\n",
       "    </tr>\n",
       "    <tr>\n",
       "      <th>584</th>\n",
       "      <td>Tom Clancy's Rainbow Six Siege</td>\n",
       "      <td>2015</td>\n",
       "      <td>December</td>\n",
       "      <td>7941.45</td>\n",
       "      <td>NaN</td>\n",
       "      <td>18130</td>\n",
       "      <td>43.8028%</td>\n",
       "    </tr>\n",
       "    <tr>\n",
       "      <th>653</th>\n",
       "      <td>Rocket League</td>\n",
       "      <td>2015</td>\n",
       "      <td>June</td>\n",
       "      <td>1.92</td>\n",
       "      <td>NaN</td>\n",
       "      <td>25</td>\n",
       "      <td>7.68%</td>\n",
       "    </tr>\n",
       "    <tr>\n",
       "      <th>742</th>\n",
       "      <td>Path of Exile</td>\n",
       "      <td>2013</td>\n",
       "      <td>October</td>\n",
       "      <td>19346.91</td>\n",
       "      <td>NaN</td>\n",
       "      <td>34371</td>\n",
       "      <td>56.2885%</td>\n",
       "    </tr>\n",
       "  </tbody>\n",
       "</table>\n",
       "</div>"
      ],
      "text/plain": [
       "                             gamename  year      month        avg  gain  \\\n",
       "103  Counter-Strike: Global Offensive  2012      July      932.57   NaN   \n",
       "207                            Dota 2  2012      July    52721.05   NaN   \n",
       "255     PLAYERUNKNOWN'S BATTLEGROUNDS  2017     March    17551.14   NaN   \n",
       "259                      Apex Legends  2020  November    74957.26   NaN   \n",
       "346                              Rust  2013  December     9205.77   NaN   \n",
       "450                   Team Fortress 2  2012      July    45566.90   NaN   \n",
       "521                Grand Theft Auto V  2015     April   192714.01   NaN   \n",
       "584    Tom Clancy's Rainbow Six Siege  2015  December     7941.45   NaN   \n",
       "653                     Rocket League  2015      June        1.92   NaN   \n",
       "742                     Path of Exile  2013   October    19346.91   NaN   \n",
       "\n",
       "       peak avg_peak_perc  \n",
       "103    1642      56.7948%  \n",
       "207   75041      70.2563%  \n",
       "255   67846      25.8691%  \n",
       "259  117193      63.9605%  \n",
       "346   22571      40.7858%  \n",
       "450   62321      73.1164%  \n",
       "521  360761      53.4187%  \n",
       "584   18130      43.8028%  \n",
       "653      25         7.68%  \n",
       "742   34371      56.2885%  "
      ]
     },
     "execution_count": 11,
     "metadata": {},
     "output_type": "execute_result"
    }
   ],
   "source": [
    "df1 = df_steam[df_steam.isna().any(axis=1)]\n",
    "df1.head(n=10)"
   ]
  },
  {
   "cell_type": "markdown",
   "id": "425d4654-15ff-4e97-b4b5-17ab104a2024",
   "metadata": {},
   "source": [
    "Vemos que son algunos valores que están al principio cuando se recogen los datos o valores no recogidos. Estos huecos se rellenan con los valores medios agrupando por videojuegos y por año para tener una métrica más precisa."
   ]
  },
  {
   "cell_type": "code",
   "execution_count": 12,
   "id": "ef1f1fa8-0d53-4f22-83e7-97c0c2979e87",
   "metadata": {},
   "outputs": [],
   "source": [
    "df_steam['gain'] = df_steam.groupby(['gamename', 'year'])['gain'].transform(lambda x: x.fillna(x.mean()))"
   ]
  },
  {
   "cell_type": "code",
   "execution_count": 13,
   "id": "fdf119e0-6588-4b51-8719-732441c33ebc",
   "metadata": {},
   "outputs": [
    {
     "data": {
      "text/plain": [
       "gamename           0\n",
       "year               0\n",
       "month              0\n",
       "avg                0\n",
       "gain             114\n",
       "peak               0\n",
       "avg_peak_perc      0\n",
       "dtype: int64"
      ]
     },
     "execution_count": 13,
     "metadata": {},
     "output_type": "execute_result"
    }
   ],
   "source": [
    "df_steam.isna().sum()"
   ]
  },
  {
   "cell_type": "markdown",
   "id": "cef55381-e82d-45e0-b38f-0c51702e4cfa",
   "metadata": {},
   "source": [
    "Vemos como aún hay 114 valores que no hemos podido rellenar con la media. Los visualizamos a ver qué puede pasar."
   ]
  },
  {
   "cell_type": "code",
   "execution_count": 14,
   "id": "ccd93f8c-bcea-4dc3-877d-328fcfc3a408",
   "metadata": {},
   "outputs": [
    {
     "data": {
      "text/html": [
       "<div>\n",
       "<style scoped>\n",
       "    .dataframe tbody tr th:only-of-type {\n",
       "        vertical-align: middle;\n",
       "    }\n",
       "\n",
       "    .dataframe tbody tr th {\n",
       "        vertical-align: top;\n",
       "    }\n",
       "\n",
       "    .dataframe thead th {\n",
       "        text-align: right;\n",
       "    }\n",
       "</style>\n",
       "<table border=\"1\" class=\"dataframe\">\n",
       "  <thead>\n",
       "    <tr style=\"text-align: right;\">\n",
       "      <th></th>\n",
       "      <th>gamename</th>\n",
       "      <th>year</th>\n",
       "      <th>month</th>\n",
       "      <th>avg</th>\n",
       "      <th>gain</th>\n",
       "      <th>peak</th>\n",
       "      <th>avg_peak_perc</th>\n",
       "    </tr>\n",
       "  </thead>\n",
       "  <tbody>\n",
       "    <tr>\n",
       "      <th>103</th>\n",
       "      <td>Counter-Strike: Global Offensive</td>\n",
       "      <td>2012</td>\n",
       "      <td>July</td>\n",
       "      <td>932.57</td>\n",
       "      <td>NaN</td>\n",
       "      <td>1642</td>\n",
       "      <td>56.7948%</td>\n",
       "    </tr>\n",
       "    <tr>\n",
       "      <th>207</th>\n",
       "      <td>Dota 2</td>\n",
       "      <td>2012</td>\n",
       "      <td>July</td>\n",
       "      <td>52721.05</td>\n",
       "      <td>NaN</td>\n",
       "      <td>75041</td>\n",
       "      <td>70.2563%</td>\n",
       "    </tr>\n",
       "    <tr>\n",
       "      <th>255</th>\n",
       "      <td>PLAYERUNKNOWN'S BATTLEGROUNDS</td>\n",
       "      <td>2017</td>\n",
       "      <td>March</td>\n",
       "      <td>17551.14</td>\n",
       "      <td>NaN</td>\n",
       "      <td>67846</td>\n",
       "      <td>25.8691%</td>\n",
       "    </tr>\n",
       "    <tr>\n",
       "      <th>259</th>\n",
       "      <td>Apex Legends</td>\n",
       "      <td>2020</td>\n",
       "      <td>November</td>\n",
       "      <td>74957.26</td>\n",
       "      <td>NaN</td>\n",
       "      <td>117193</td>\n",
       "      <td>63.9605%</td>\n",
       "    </tr>\n",
       "    <tr>\n",
       "      <th>346</th>\n",
       "      <td>Rust</td>\n",
       "      <td>2013</td>\n",
       "      <td>December</td>\n",
       "      <td>9205.77</td>\n",
       "      <td>NaN</td>\n",
       "      <td>22571</td>\n",
       "      <td>40.7858%</td>\n",
       "    </tr>\n",
       "    <tr>\n",
       "      <th>450</th>\n",
       "      <td>Team Fortress 2</td>\n",
       "      <td>2012</td>\n",
       "      <td>July</td>\n",
       "      <td>45566.90</td>\n",
       "      <td>NaN</td>\n",
       "      <td>62321</td>\n",
       "      <td>73.1164%</td>\n",
       "    </tr>\n",
       "    <tr>\n",
       "      <th>521</th>\n",
       "      <td>Grand Theft Auto V</td>\n",
       "      <td>2015</td>\n",
       "      <td>April</td>\n",
       "      <td>192714.01</td>\n",
       "      <td>NaN</td>\n",
       "      <td>360761</td>\n",
       "      <td>53.4187%</td>\n",
       "    </tr>\n",
       "    <tr>\n",
       "      <th>584</th>\n",
       "      <td>Tom Clancy's Rainbow Six Siege</td>\n",
       "      <td>2015</td>\n",
       "      <td>December</td>\n",
       "      <td>7941.45</td>\n",
       "      <td>NaN</td>\n",
       "      <td>18130</td>\n",
       "      <td>43.8028%</td>\n",
       "    </tr>\n",
       "    <tr>\n",
       "      <th>653</th>\n",
       "      <td>Rocket League</td>\n",
       "      <td>2015</td>\n",
       "      <td>June</td>\n",
       "      <td>1.92</td>\n",
       "      <td>NaN</td>\n",
       "      <td>25</td>\n",
       "      <td>7.68%</td>\n",
       "    </tr>\n",
       "    <tr>\n",
       "      <th>742</th>\n",
       "      <td>Path of Exile</td>\n",
       "      <td>2013</td>\n",
       "      <td>October</td>\n",
       "      <td>19346.91</td>\n",
       "      <td>NaN</td>\n",
       "      <td>34371</td>\n",
       "      <td>56.2885%</td>\n",
       "    </tr>\n",
       "  </tbody>\n",
       "</table>\n",
       "</div>"
      ],
      "text/plain": [
       "                             gamename  year      month        avg  gain  \\\n",
       "103  Counter-Strike: Global Offensive  2012      July      932.57   NaN   \n",
       "207                            Dota 2  2012      July    52721.05   NaN   \n",
       "255     PLAYERUNKNOWN'S BATTLEGROUNDS  2017     March    17551.14   NaN   \n",
       "259                      Apex Legends  2020  November    74957.26   NaN   \n",
       "346                              Rust  2013  December     9205.77   NaN   \n",
       "450                   Team Fortress 2  2012      July    45566.90   NaN   \n",
       "521                Grand Theft Auto V  2015     April   192714.01   NaN   \n",
       "584    Tom Clancy's Rainbow Six Siege  2015  December     7941.45   NaN   \n",
       "653                     Rocket League  2015      June        1.92   NaN   \n",
       "742                     Path of Exile  2013   October    19346.91   NaN   \n",
       "\n",
       "       peak avg_peak_perc  \n",
       "103    1642      56.7948%  \n",
       "207   75041      70.2563%  \n",
       "255   67846      25.8691%  \n",
       "259  117193      63.9605%  \n",
       "346   22571      40.7858%  \n",
       "450   62321      73.1164%  \n",
       "521  360761      53.4187%  \n",
       "584   18130      43.8028%  \n",
       "653      25         7.68%  \n",
       "742   34371      56.2885%  "
      ]
     },
     "execution_count": 14,
     "metadata": {},
     "output_type": "execute_result"
    }
   ],
   "source": [
    "df2 = df_steam[df_steam.isna().any(axis=1)]\n",
    "df1.head(n=10)"
   ]
  },
  {
   "cell_type": "markdown",
   "id": "e5c6812a-4c4c-452c-ba0f-79f8feeba16c",
   "metadata": {},
   "source": [
    "Indagando más en los datos resulta que son valores únicos y no podemos conseguir la media para rellenarlos por lo que se procede a rellenarlo con 0."
   ]
  },
  {
   "cell_type": "code",
   "execution_count": 15,
   "id": "d0a256d8-7511-4084-8f87-13d608019995",
   "metadata": {},
   "outputs": [],
   "source": [
    "df_steam['gain'].fillna(0, inplace=True)"
   ]
  },
  {
   "cell_type": "code",
   "execution_count": 16,
   "id": "6a739eab-dc7b-474a-b15b-2ef3b26774a1",
   "metadata": {},
   "outputs": [
    {
     "data": {
      "text/plain": [
       "gamename         0\n",
       "year             0\n",
       "month            0\n",
       "avg              0\n",
       "gain             0\n",
       "peak             0\n",
       "avg_peak_perc    0\n",
       "dtype: int64"
      ]
     },
     "execution_count": 16,
     "metadata": {},
     "output_type": "execute_result"
    }
   ],
   "source": [
    "df_steam.isna().sum()"
   ]
  },
  {
   "cell_type": "markdown",
   "id": "b24cc79d-108c-432f-a190-cb69bde5625e",
   "metadata": {},
   "source": [
    "Analizamos el rango de años recogidos en el dataset\n"
   ]
  },
  {
   "cell_type": "code",
   "execution_count": 17,
   "id": "06f7241c-35f0-4d76-a895-156a73581483",
   "metadata": {},
   "outputs": [
    {
     "name": "stdout",
     "output_type": "stream",
     "text": [
      "Tenemos datos de 9 años\n"
     ]
    }
   ],
   "source": [
    "year_data = max(df_steam['year'])-min(df_steam['year'])\n",
    "print(\"Tenemos datos de %d años\" % year_data)"
   ]
  },
  {
   "cell_type": "markdown",
   "id": "37f3d3d1-3434-40d7-aad8-b9397b70da36",
   "metadata": {},
   "source": [
    "¿De cuántos videojuegos únicos disponemos?"
   ]
  },
  {
   "cell_type": "code",
   "execution_count": 18,
   "id": "527d42a4-672f-45ef-bb2f-312d85b1a8fc",
   "metadata": {},
   "outputs": [
    {
     "name": "stdout",
     "output_type": "stream",
     "text": [
      "Tenemos 1260 videojuegos diferentes en el dataset\n"
     ]
    }
   ],
   "source": [
    "unique_vg = df_steam['gamename'].nunique()\n",
    "print(\"Tenemos %d videojuegos diferentes en el dataset\" % unique_vg)"
   ]
  },
  {
   "cell_type": "markdown",
   "id": "816d79d9-c66c-47a0-a418-d7c29f254a88",
   "metadata": {},
   "source": [
    "### Procesamiento de fechas"
   ]
  },
  {
   "cell_type": "markdown",
   "id": "6173a136-1ef6-48dc-b319-e250ea34222e",
   "metadata": {},
   "source": [
    "Analizando las columnas del dataset vimos que no había columna específica de fechas. Se iban a rellenar con las columnas de los datos necesarios pero nos dimos cuenta de que también estaban mal formateadas, por lo que las formateamos bien para poder crear la columna de fecha"
   ]
  },
  {
   "cell_type": "code",
   "execution_count": 19,
   "id": "9fb78cdb-3eab-483d-9b77-74d116a6a6c6",
   "metadata": {},
   "outputs": [
    {
     "data": {
      "text/plain": [
       "array(['February ', 'January ', 'December ', 'November ', 'October ',\n",
       "       'September ', 'August ', 'July ', 'June ', 'May ', 'April ',\n",
       "       'March '], dtype=object)"
      ]
     },
     "execution_count": 19,
     "metadata": {},
     "output_type": "execute_result"
    }
   ],
   "source": [
    "# Exploramos las columnas y vemos que month contiene espacios\n",
    "df_steam['month'].unique()"
   ]
  },
  {
   "cell_type": "code",
   "execution_count": 20,
   "id": "60d40354-121f-4761-894e-162cb8496878",
   "metadata": {},
   "outputs": [
    {
     "data": {
      "text/plain": [
       "0        February\n",
       "1         January\n",
       "2        December\n",
       "3        November\n",
       "4         October\n",
       "           ...   \n",
       "83784        July\n",
       "83785        June\n",
       "83786         May\n",
       "83787       April\n",
       "83788       March\n",
       "Name: month, Length: 83789, dtype: object"
      ]
     },
     "execution_count": 20,
     "metadata": {},
     "output_type": "execute_result"
    }
   ],
   "source": [
    "# Procesamos los espacios en las columnas de meses.\n",
    "df_steam['month'] = df_steam['month'].str.strip()\n",
    "df_steam['month']"
   ]
  },
  {
   "cell_type": "code",
   "execution_count": 21,
   "id": "beb865a3-aff6-4e20-b095-1940f1c61f49",
   "metadata": {},
   "outputs": [
    {
     "data": {
      "text/plain": [
       "0       2021-02-01\n",
       "1       2021-01-01\n",
       "2       2020-12-01\n",
       "3       2020-11-01\n",
       "4       2020-10-01\n",
       "           ...    \n",
       "83784   2017-07-01\n",
       "83785   2017-06-01\n",
       "83786   2017-05-01\n",
       "83787   2017-04-01\n",
       "83788   2017-03-01\n",
       "Name: date, Length: 83789, dtype: datetime64[ns]"
      ]
     },
     "execution_count": 21,
     "metadata": {},
     "output_type": "execute_result"
    }
   ],
   "source": [
    "# Unificamos fechas para formatearlas en una columna de tipo date\n",
    "df_steam['date'] = pd.to_datetime(df_steam['month'] + df_steam['year'].astype(str), format='%B%Y')\n",
    "df_steam['date']"
   ]
  },
  {
   "cell_type": "code",
   "execution_count": 22,
   "id": "44436d0a-e43d-4f08-b316-ace8be76873b",
   "metadata": {},
   "outputs": [
    {
     "data": {
      "text/html": [
       "<div>\n",
       "<style scoped>\n",
       "    .dataframe tbody tr th:only-of-type {\n",
       "        vertical-align: middle;\n",
       "    }\n",
       "\n",
       "    .dataframe tbody tr th {\n",
       "        vertical-align: top;\n",
       "    }\n",
       "\n",
       "    .dataframe thead th {\n",
       "        text-align: right;\n",
       "    }\n",
       "</style>\n",
       "<table border=\"1\" class=\"dataframe\">\n",
       "  <thead>\n",
       "    <tr style=\"text-align: right;\">\n",
       "      <th></th>\n",
       "      <th>gamename</th>\n",
       "      <th>year</th>\n",
       "      <th>month</th>\n",
       "      <th>avg</th>\n",
       "      <th>gain</th>\n",
       "      <th>peak</th>\n",
       "      <th>avg_peak_perc</th>\n",
       "      <th>date</th>\n",
       "    </tr>\n",
       "  </thead>\n",
       "  <tbody>\n",
       "    <tr>\n",
       "      <th>0</th>\n",
       "      <td>Counter-Strike: Global Offensive</td>\n",
       "      <td>2021</td>\n",
       "      <td>February</td>\n",
       "      <td>741013.24</td>\n",
       "      <td>-2196.42</td>\n",
       "      <td>1123485</td>\n",
       "      <td>65.9567%</td>\n",
       "      <td>2021-02-01</td>\n",
       "    </tr>\n",
       "    <tr>\n",
       "      <th>1</th>\n",
       "      <td>Counter-Strike: Global Offensive</td>\n",
       "      <td>2021</td>\n",
       "      <td>January</td>\n",
       "      <td>743209.66</td>\n",
       "      <td>25405.91</td>\n",
       "      <td>1124553</td>\n",
       "      <td>66.0893%</td>\n",
       "      <td>2021-01-01</td>\n",
       "    </tr>\n",
       "    <tr>\n",
       "      <th>2</th>\n",
       "      <td>Counter-Strike: Global Offensive</td>\n",
       "      <td>2020</td>\n",
       "      <td>December</td>\n",
       "      <td>717803.75</td>\n",
       "      <td>49049.17</td>\n",
       "      <td>1164396</td>\n",
       "      <td>61.646%</td>\n",
       "      <td>2020-12-01</td>\n",
       "    </tr>\n",
       "    <tr>\n",
       "      <th>3</th>\n",
       "      <td>Counter-Strike: Global Offensive</td>\n",
       "      <td>2020</td>\n",
       "      <td>November</td>\n",
       "      <td>668754.58</td>\n",
       "      <td>55087.89</td>\n",
       "      <td>1037464</td>\n",
       "      <td>64.4605%</td>\n",
       "      <td>2020-11-01</td>\n",
       "    </tr>\n",
       "    <tr>\n",
       "      <th>4</th>\n",
       "      <td>Counter-Strike: Global Offensive</td>\n",
       "      <td>2020</td>\n",
       "      <td>October</td>\n",
       "      <td>613666.69</td>\n",
       "      <td>6816.37</td>\n",
       "      <td>943876</td>\n",
       "      <td>65.0156%</td>\n",
       "      <td>2020-10-01</td>\n",
       "    </tr>\n",
       "  </tbody>\n",
       "</table>\n",
       "</div>"
      ],
      "text/plain": [
       "                           gamename  year     month        avg      gain  \\\n",
       "0  Counter-Strike: Global Offensive  2021  February  741013.24  -2196.42   \n",
       "1  Counter-Strike: Global Offensive  2021   January  743209.66  25405.91   \n",
       "2  Counter-Strike: Global Offensive  2020  December  717803.75  49049.17   \n",
       "3  Counter-Strike: Global Offensive  2020  November  668754.58  55087.89   \n",
       "4  Counter-Strike: Global Offensive  2020   October  613666.69   6816.37   \n",
       "\n",
       "      peak avg_peak_perc       date  \n",
       "0  1123485      65.9567% 2021-02-01  \n",
       "1  1124553      66.0893% 2021-01-01  \n",
       "2  1164396       61.646% 2020-12-01  \n",
       "3  1037464      64.4605% 2020-11-01  \n",
       "4   943876      65.0156% 2020-10-01  "
      ]
     },
     "execution_count": 22,
     "metadata": {},
     "output_type": "execute_result"
    }
   ],
   "source": [
    "df_steam.head()"
   ]
  },
  {
   "cell_type": "markdown",
   "id": "12019470-48ea-40cb-9355-8c169b47fcf6",
   "metadata": {},
   "source": [
    "### Analisis"
   ]
  },
  {
   "cell_type": "markdown",
   "id": "a8b9f8bb-0157-44eb-8571-940ef17e4dbc",
   "metadata": {},
   "source": [
    "Vamos a visualizar la evolución de jugadores que hay en Steam a lo largo de los años"
   ]
  },
  {
   "cell_type": "code",
   "execution_count": 23,
   "id": "3f722edc-319c-46cd-b5f7-97a4016e2505",
   "metadata": {},
   "outputs": [
    {
     "data": {
      "image/png": "[encoded data removed]",
      "text/plain": [
       "<Figure size 1440x720 with 1 Axes>"
      ]
     },
     "metadata": {
      "needs_background": "light"
     },
     "output_type": "display_data"
    }
   ],
   "source": [
    "#Evolución del número de jugadores medio en la plataforma steam\n",
    "df_steam_year = df_steam.groupby(['date'])['avg'].sum().plot(figsize=(20,10))\n",
    "plt.title(\"Average players by month\")\n",
    "plt.xlabel(\"Time\")\n",
    "plt.ylabel(\"Average players\")\n",
    "plt.gca().xaxis.grid(True); #ejes verticales"
   ]
  },
  {
   "cell_type": "markdown",
   "id": "4c1a0384-f51b-4504-a0eb-7a653591d01f",
   "metadata": {},
   "source": [
    "Vemos como hay dos incrementos destacados de jugadores. Uno en 2018 y otro en 2020.\n",
    "El de 2020 se debe principalmente al covid-19 y los confinamientos derivados. Al pasar más tiempo en casa la gente buscaba diferentes formas de entretenimiento."
   ]
  },
  {
   "cell_type": "code",
   "execution_count": 24,
   "id": "8f958464-aa37-4501-adf6-c455efe32d67",
   "metadata": {},
   "outputs": [],
   "source": [
    "# Analizamos el por qué del incremento de 2018. Seleccionamos las fechas donde vemos el pico\n",
    "start_date = '2017-11-01'\n",
    "end_date = '2018-06-01'"
   ]
  },
  {
   "cell_type": "code",
   "execution_count": 25,
   "id": "bf50c6e5-dc5c-44cf-8ab8-0e4dce175e11",
   "metadata": {},
   "outputs": [
    {
     "data": {
      "text/html": [
       "<div>\n",
       "<style scoped>\n",
       "    .dataframe tbody tr th:only-of-type {\n",
       "        vertical-align: middle;\n",
       "    }\n",
       "\n",
       "    .dataframe tbody tr th {\n",
       "        vertical-align: top;\n",
       "    }\n",
       "\n",
       "    .dataframe thead th {\n",
       "        text-align: right;\n",
       "    }\n",
       "</style>\n",
       "<table border=\"1\" class=\"dataframe\">\n",
       "  <thead>\n",
       "    <tr style=\"text-align: right;\">\n",
       "      <th></th>\n",
       "      <th>gamename</th>\n",
       "      <th>year</th>\n",
       "      <th>month</th>\n",
       "      <th>avg</th>\n",
       "      <th>gain</th>\n",
       "      <th>peak</th>\n",
       "      <th>avg_peak_perc</th>\n",
       "      <th>date</th>\n",
       "    </tr>\n",
       "  </thead>\n",
       "  <tbody>\n",
       "    <tr>\n",
       "      <th>245</th>\n",
       "      <td>PLAYERUNKNOWN'S BATTLEGROUNDS</td>\n",
       "      <td>2018</td>\n",
       "      <td>January</td>\n",
       "      <td>1584886.77</td>\n",
       "      <td>148728.26</td>\n",
       "      <td>3236027</td>\n",
       "      <td>48.9763%</td>\n",
       "      <td>2018-01-01</td>\n",
       "    </tr>\n",
       "    <tr>\n",
       "      <th>246</th>\n",
       "      <td>PLAYERUNKNOWN'S BATTLEGROUNDS</td>\n",
       "      <td>2017</td>\n",
       "      <td>December</td>\n",
       "      <td>1436158.51</td>\n",
       "      <td>101988.42</td>\n",
       "      <td>3080769</td>\n",
       "      <td>46.6169%</td>\n",
       "      <td>2017-12-01</td>\n",
       "    </tr>\n",
       "    <tr>\n",
       "      <th>244</th>\n",
       "      <td>PLAYERUNKNOWN'S BATTLEGROUNDS</td>\n",
       "      <td>2018</td>\n",
       "      <td>February</td>\n",
       "      <td>1391015.30</td>\n",
       "      <td>-193871.48</td>\n",
       "      <td>2934761</td>\n",
       "      <td>47.3979%</td>\n",
       "      <td>2018-02-01</td>\n",
       "    </tr>\n",
       "    <tr>\n",
       "      <th>243</th>\n",
       "      <td>PLAYERUNKNOWN'S BATTLEGROUNDS</td>\n",
       "      <td>2018</td>\n",
       "      <td>March</td>\n",
       "      <td>1295408.59</td>\n",
       "      <td>-95606.71</td>\n",
       "      <td>2799269</td>\n",
       "      <td>46.2767%</td>\n",
       "      <td>2018-03-01</td>\n",
       "    </tr>\n",
       "    <tr>\n",
       "      <th>242</th>\n",
       "      <td>PLAYERUNKNOWN'S BATTLEGROUNDS</td>\n",
       "      <td>2018</td>\n",
       "      <td>April</td>\n",
       "      <td>1107181.80</td>\n",
       "      <td>-188226.79</td>\n",
       "      <td>2456361</td>\n",
       "      <td>45.0741%</td>\n",
       "      <td>2018-04-01</td>\n",
       "    </tr>\n",
       "    <tr>\n",
       "      <th>241</th>\n",
       "      <td>PLAYERUNKNOWN'S BATTLEGROUNDS</td>\n",
       "      <td>2018</td>\n",
       "      <td>May</td>\n",
       "      <td>876180.64</td>\n",
       "      <td>-231001.16</td>\n",
       "      <td>2175704</td>\n",
       "      <td>40.2711%</td>\n",
       "      <td>2018-05-01</td>\n",
       "    </tr>\n",
       "    <tr>\n",
       "      <th>240</th>\n",
       "      <td>PLAYERUNKNOWN'S BATTLEGROUNDS</td>\n",
       "      <td>2018</td>\n",
       "      <td>June</td>\n",
       "      <td>800668.23</td>\n",
       "      <td>-75512.41</td>\n",
       "      <td>1750216</td>\n",
       "      <td>45.7468%</td>\n",
       "      <td>2018-06-01</td>\n",
       "    </tr>\n",
       "    <tr>\n",
       "      <th>142</th>\n",
       "      <td>Dota 2</td>\n",
       "      <td>2017</td>\n",
       "      <td>December</td>\n",
       "      <td>513074.33</td>\n",
       "      <td>25693.09</td>\n",
       "      <td>864939</td>\n",
       "      <td>59.3191%</td>\n",
       "      <td>2017-12-01</td>\n",
       "    </tr>\n",
       "    <tr>\n",
       "      <th>141</th>\n",
       "      <td>Dota 2</td>\n",
       "      <td>2018</td>\n",
       "      <td>January</td>\n",
       "      <td>486861.91</td>\n",
       "      <td>-26212.42</td>\n",
       "      <td>778627</td>\n",
       "      <td>62.5283%</td>\n",
       "      <td>2018-01-01</td>\n",
       "    </tr>\n",
       "    <tr>\n",
       "      <th>137</th>\n",
       "      <td>Dota 2</td>\n",
       "      <td>2018</td>\n",
       "      <td>May</td>\n",
       "      <td>474325.87</td>\n",
       "      <td>43984.93</td>\n",
       "      <td>844713</td>\n",
       "      <td>56.1523%</td>\n",
       "      <td>2018-05-01</td>\n",
       "    </tr>\n",
       "  </tbody>\n",
       "</table>\n",
       "</div>"
      ],
      "text/plain": [
       "                          gamename  year     month         avg       gain  \\\n",
       "245  PLAYERUNKNOWN'S BATTLEGROUNDS  2018   January  1584886.77  148728.26   \n",
       "246  PLAYERUNKNOWN'S BATTLEGROUNDS  2017  December  1436158.51  101988.42   \n",
       "244  PLAYERUNKNOWN'S BATTLEGROUNDS  2018  February  1391015.30 -193871.48   \n",
       "243  PLAYERUNKNOWN'S BATTLEGROUNDS  2018     March  1295408.59  -95606.71   \n",
       "242  PLAYERUNKNOWN'S BATTLEGROUNDS  2018     April  1107181.80 -188226.79   \n",
       "241  PLAYERUNKNOWN'S BATTLEGROUNDS  2018       May   876180.64 -231001.16   \n",
       "240  PLAYERUNKNOWN'S BATTLEGROUNDS  2018      June   800668.23  -75512.41   \n",
       "142                         Dota 2  2017  December   513074.33   25693.09   \n",
       "141                         Dota 2  2018   January   486861.91  -26212.42   \n",
       "137                         Dota 2  2018       May   474325.87   43984.93   \n",
       "\n",
       "        peak avg_peak_perc       date  \n",
       "245  3236027      48.9763% 2018-01-01  \n",
       "246  3080769      46.6169% 2017-12-01  \n",
       "244  2934761      47.3979% 2018-02-01  \n",
       "243  2799269      46.2767% 2018-03-01  \n",
       "242  2456361      45.0741% 2018-04-01  \n",
       "241  2175704      40.2711% 2018-05-01  \n",
       "240  1750216      45.7468% 2018-06-01  \n",
       "142   864939      59.3191% 2017-12-01  \n",
       "141   778627      62.5283% 2018-01-01  \n",
       "137   844713      56.1523% 2018-05-01  "
      ]
     },
     "execution_count": 25,
     "metadata": {},
     "output_type": "execute_result"
    }
   ],
   "source": [
    "mask_2018 = (df_steam['date'] > start_date) & (df_steam['date'] <= end_date)\n",
    "df_steam_2018 = df_steam.loc[mask_2018]\n",
    "df_steam_2018_sort = df_steam_2018.sort_values(by=['avg'], ascending=False)\n",
    "df_steam_2018_sort.head(10)"
   ]
  },
  {
   "cell_type": "markdown",
   "id": "0d049e83-e079-4465-8a4f-319bc07f40f1",
   "metadata": {},
   "source": [
    "Vemos como el juego que hace que las métricas se disparen en 2018 es PLAYERUNKNOWN'S BATTLEGROUNDS y es porque popularizó junto con Fornite un nuevo modelo de juego llamado Battle Royale"
   ]
  },
  {
   "cell_type": "markdown",
   "id": "a39afb57-8c13-43b6-8600-2ba72a4afa8f",
   "metadata": {},
   "source": [
    "### Top 10 juegos más jugados en Steam en los últimos 10 años"
   ]
  },
  {
   "cell_type": "markdown",
   "id": "018da948-6ed0-4ead-9b20-e475082ba4f4",
   "metadata": {},
   "source": [
    "En esta sección vamos a ver cuáles son los juegos más populares de los últimos 10 años de Steam"
   ]
  },
  {
   "cell_type": "code",
   "execution_count": 26,
   "id": "4dfc71f5-1a2d-4818-9b62-7d9ca7521e0a",
   "metadata": {},
   "outputs": [],
   "source": [
    "#Agrupamos los juegos por nombre y número medio de jugadores\n",
    "df_steam_games = df_steam.groupby(['gamename'])['avg'].sum().reset_index()"
   ]
  },
  {
   "cell_type": "code",
   "execution_count": 27,
   "id": "a27b4464-9e3b-4cb6-b9cd-4cbaad398078",
   "metadata": {},
   "outputs": [
    {
     "data": {
      "image/png": "[encoded data removed]",
      "text/plain": [
       "<Figure size 1080x360 with 1 Axes>"
      ]
     },
     "metadata": {
      "needs_background": "light"
     },
     "output_type": "display_data"
    }
   ],
   "source": [
    "#Ordenamos los juegos y cogemos los 10 primeros. Después los visualizamos en un gráfico de barras horizontal\n",
    "plt.rcParams[\"figure.figsize\"] = (15,5)\n",
    "df_steam_games.sort_values('avg', ascending=False).head(10).plot(kind='barh', y='avg', x='gamename')\n",
    "plt.xlabel(\"Average players at the same time\")\n",
    "plt.ylabel(\"Game\");"
   ]
  },
  {
   "cell_type": "markdown",
   "id": "cfcad122-c495-4a68-8894-44273df7da27",
   "metadata": {},
   "source": [
    "Los juegos más jugados en los últimos 10 años son:\n",
    "* Dota 2\n",
    "* Counter_Strike: Global Offensive\n",
    "* PLAYERUNKNOWN'S BATTLEGROUNDS"
   ]
  },
  {
   "cell_type": "markdown",
   "id": "182ca71e-d995-463f-8bc3-27fd6f96b4da",
   "metadata": {},
   "source": [
    "### Top 10 juegos más jugados en Steam en los últimos 2 años"
   ]
  },
  {
   "cell_type": "markdown",
   "id": "dce32e77-8376-4933-bbc3-53b97dbe2cec",
   "metadata": {},
   "source": [
    "Como hemos visto en los gráficos superiores vamos a analizar también el cambio de tendencia que ha habido después del covid-19 en la industria de los videojuegos."
   ]
  },
  {
   "cell_type": "code",
   "execution_count": 28,
   "id": "b6f21a1a-15d0-4443-a66d-dd3291b01a94",
   "metadata": {},
   "outputs": [],
   "source": [
    "#Filtramos por fechas y creamos un nuevo df\n",
    "df_top_games_covid = df_steam.loc[(df_steam['year'].isin([2020, 2021]))]"
   ]
  },
  {
   "cell_type": "code",
   "execution_count": 29,
   "id": "c7fa5f29-a651-4f46-810f-d2bda166b7ad",
   "metadata": {},
   "outputs": [
    {
     "data": {
      "text/html": [
       "<div>\n",
       "<style scoped>\n",
       "    .dataframe tbody tr th:only-of-type {\n",
       "        vertical-align: middle;\n",
       "    }\n",
       "\n",
       "    .dataframe tbody tr th {\n",
       "        vertical-align: top;\n",
       "    }\n",
       "\n",
       "    .dataframe thead th {\n",
       "        text-align: right;\n",
       "    }\n",
       "</style>\n",
       "<table border=\"1\" class=\"dataframe\">\n",
       "  <thead>\n",
       "    <tr style=\"text-align: right;\">\n",
       "      <th></th>\n",
       "      <th>gamename</th>\n",
       "      <th>year</th>\n",
       "      <th>month</th>\n",
       "      <th>avg</th>\n",
       "      <th>gain</th>\n",
       "      <th>peak</th>\n",
       "      <th>avg_peak_perc</th>\n",
       "      <th>date</th>\n",
       "    </tr>\n",
       "  </thead>\n",
       "  <tbody>\n",
       "    <tr>\n",
       "      <th>26975</th>\n",
       "      <td>Rise of the Tomb Raider</td>\n",
       "      <td>2020</td>\n",
       "      <td>May</td>\n",
       "      <td>1742.91</td>\n",
       "      <td>-440.28</td>\n",
       "      <td>4095</td>\n",
       "      <td>42.5619%</td>\n",
       "      <td>2020-05-01</td>\n",
       "    </tr>\n",
       "    <tr>\n",
       "      <th>36987</th>\n",
       "      <td>Call of Duty: Black Ops</td>\n",
       "      <td>2020</td>\n",
       "      <td>August</td>\n",
       "      <td>486.74</td>\n",
       "      <td>14.31</td>\n",
       "      <td>1044</td>\n",
       "      <td>46.6226%</td>\n",
       "      <td>2020-08-01</td>\n",
       "    </tr>\n",
       "    <tr>\n",
       "      <th>19394</th>\n",
       "      <td>Post Scriptum</td>\n",
       "      <td>2020</td>\n",
       "      <td>May</td>\n",
       "      <td>1124.10</td>\n",
       "      <td>-158.29</td>\n",
       "      <td>2970</td>\n",
       "      <td>37.8485%</td>\n",
       "      <td>2020-05-01</td>\n",
       "    </tr>\n",
       "    <tr>\n",
       "      <th>66635</th>\n",
       "      <td>Vampyr</td>\n",
       "      <td>2020</td>\n",
       "      <td>January</td>\n",
       "      <td>186.06</td>\n",
       "      <td>-65.97</td>\n",
       "      <td>494</td>\n",
       "      <td>37.664%</td>\n",
       "      <td>2020-01-01</td>\n",
       "    </tr>\n",
       "    <tr>\n",
       "      <th>25538</th>\n",
       "      <td>Left 4 Dead 2</td>\n",
       "      <td>2020</td>\n",
       "      <td>June</td>\n",
       "      <td>11295.42</td>\n",
       "      <td>-656.96</td>\n",
       "      <td>23371</td>\n",
       "      <td>48.3309%</td>\n",
       "      <td>2020-06-01</td>\n",
       "    </tr>\n",
       "    <tr>\n",
       "      <th>39520</th>\n",
       "      <td>Counter-Strike: Condition Zero</td>\n",
       "      <td>2020</td>\n",
       "      <td>March</td>\n",
       "      <td>599.17</td>\n",
       "      <td>184.15</td>\n",
       "      <td>1565</td>\n",
       "      <td>38.2856%</td>\n",
       "      <td>2020-03-01</td>\n",
       "    </tr>\n",
       "    <tr>\n",
       "      <th>10178</th>\n",
       "      <td>X-Plane 11</td>\n",
       "      <td>2020</td>\n",
       "      <td>August</td>\n",
       "      <td>1743.33</td>\n",
       "      <td>-322.38</td>\n",
       "      <td>3174</td>\n",
       "      <td>54.9253%</td>\n",
       "      <td>2020-08-01</td>\n",
       "    </tr>\n",
       "  </tbody>\n",
       "</table>\n",
       "</div>"
      ],
      "text/plain": [
       "                             gamename  year    month       avg    gain   peak  \\\n",
       "26975         Rise of the Tomb Raider  2020      May   1742.91 -440.28   4095   \n",
       "36987         Call of Duty: Black Ops  2020   August    486.74   14.31   1044   \n",
       "19394                   Post Scriptum  2020      May   1124.10 -158.29   2970   \n",
       "66635                          Vampyr  2020  January    186.06  -65.97    494   \n",
       "25538                   Left 4 Dead 2  2020     June  11295.42 -656.96  23371   \n",
       "39520  Counter-Strike: Condition Zero  2020    March    599.17  184.15   1565   \n",
       "10178                      X-Plane 11  2020   August   1743.33 -322.38   3174   \n",
       "\n",
       "      avg_peak_perc       date  \n",
       "26975      42.5619% 2020-05-01  \n",
       "36987      46.6226% 2020-08-01  \n",
       "19394      37.8485% 2020-05-01  \n",
       "66635       37.664% 2020-01-01  \n",
       "25538      48.3309% 2020-06-01  \n",
       "39520      38.2856% 2020-03-01  \n",
       "10178      54.9253% 2020-08-01  "
      ]
     },
     "execution_count": 29,
     "metadata": {},
     "output_type": "execute_result"
    }
   ],
   "source": [
    "df_top_games_covid.sample(n=7)"
   ]
  },
  {
   "cell_type": "code",
   "execution_count": 30,
   "id": "e68abc3b-3496-44e4-86a2-6fe4b5263b7f",
   "metadata": {},
   "outputs": [
    {
     "name": "stdout",
     "output_type": "stream",
     "text": [
      "Tenemos datos de 1 año\n"
     ]
    }
   ],
   "source": [
    "#Comprobamos el rango de años recogidos en el nuevo dataset\n",
    "year_data = max(df_top_games_covid['year'])-min(df_top_games_covid['year'])\n",
    "print(\"Tenemos datos de %d año\" % year_data)"
   ]
  },
  {
   "cell_type": "code",
   "execution_count": 31,
   "id": "6e9b01b6-efc4-479b-a26e-13bce7de9ded",
   "metadata": {},
   "outputs": [],
   "source": [
    "df_games_covid19 = df_top_games_covid.groupby(['gamename'])['avg'].sum().reset_index()"
   ]
  },
  {
   "cell_type": "code",
   "execution_count": 32,
   "id": "d4644b1b-8dd9-40b5-9587-66e63e36963c",
   "metadata": {},
   "outputs": [
    {
     "data": {
      "image/png": "[encoded data removed]",
      "text/plain": [
       "<Figure size 1080x360 with 1 Axes>"
      ]
     },
     "metadata": {
      "needs_background": "light"
     },
     "output_type": "display_data"
    }
   ],
   "source": [
    "#Ploteamos el gráfico con los juegos más jugados desde el covid-19\n",
    "plt.rcParams[\"figure.figsize\"] = (15,5)\n",
    "df_top10_games_covid19 = df_games_covid19.sort_values('avg', ascending=False).head(10).plot(kind='barh', y='avg', x='gamename')\n",
    "plt.xlabel(\"Average players\")\n",
    "plt.ylabel(\"Game\");"
   ]
  },
  {
   "cell_type": "markdown",
   "id": "21922e03-ded7-4b63-b401-cfc28029c5d6",
   "metadata": {},
   "source": [
    "# Exportamos los datos"
   ]
  },
  {
   "cell_type": "markdown",
   "id": "d3374707-fb83-4d12-8d48-f7541a5bf6cd",
   "metadata": {},
   "source": [
    "Expotamos los datos en csv para utilizarlos en notebooks posteriores"
   ]
  },
  {
   "cell_type": "code",
   "execution_count": 33,
   "id": "fbf7bfec-191b-4c0d-bd9e-313812c3a9f1",
   "metadata": {},
   "outputs": [],
   "source": [
    "#Exportamos los datos totales de Steam\n",
    "df_steam.to_csv('Steam data processed.csv', encoding='utf-8', index=False, header=True)\n"
   ]
  },
  {
   "cell_type": "code",
   "execution_count": 34,
   "id": "aed83529-e846-41a8-95db-d0a0a99cf199",
   "metadata": {},
   "outputs": [],
   "source": [
    "#Exportamos los datos totales de Steam post covid-19\n",
    "df_top_games_covid.to_csv('Steam data games post covid.csv', encoding='utf-8', index=False, header=True)\n"
   ]
  }
 ],
 "metadata": {
  "kernelspec": {
   "display_name": "Python 3",
   "language": "python",
   "name": "python3"
  },
  "language_info": {
   "codemirror_mode": {
    "name": "ipython",
    "version": 3
   },
   "file_extension": ".py",
   "mimetype": "text/x-python",
   "name": "python",
   "nbconvert_exporter": "python",
   "pygments_lexer": "ipython3",
   "version": "3.9.4"
  }
 },
 "nbformat": 4,
 "nbformat_minor": 5
}
