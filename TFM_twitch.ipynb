{
 "cells": [
  {
   "cell_type": "markdown",
   "id": "f352230c-2886-44c7-b33c-53acdc023337",
   "metadata": {},
   "source": [
    "### TFM Streaming and video game industry"
   ]
  },
  {
   "cell_type": "code",
   "execution_count": 2,
   "id": "d48c2ba8-0cf4-4e86-9fe5-897e523a3237",
   "metadata": {},
   "outputs": [
    {
     "name": "stdout",
     "output_type": "stream",
     "text": [
      "Requirement already satisfied: requests in /home/dsc/anaconda3/envs/tfm/lib/python3.9/site-packages (2.25.1)\n",
      "Requirement already satisfied: chardet<5,>=3.0.2 in /home/dsc/anaconda3/envs/tfm/lib/python3.9/site-packages (from requests) (4.0.0)\n",
      "Requirement already satisfied: idna<3,>=2.5 in /home/dsc/anaconda3/envs/tfm/lib/python3.9/site-packages (from requests) (2.10)\n",
      "Requirement already satisfied: urllib3<1.27,>=1.21.1 in /home/dsc/anaconda3/envs/tfm/lib/python3.9/site-packages (from requests) (1.26.4)\n",
      "Requirement already satisfied: certifi>=2017.4.17 in /home/dsc/anaconda3/envs/tfm/lib/python3.9/site-packages (from requests) (2020.12.5)\n",
      "Note: you may need to restart the kernel to use updated packages.\n"
     ]
    }
   ],
   "source": [
    "pip install requests"
   ]
  },
  {
   "cell_type": "code",
   "execution_count": 4,
   "id": "63049ff2-cd06-4cb9-b9ad-c228e15fea92",
   "metadata": {},
   "outputs": [
    {
     "name": "stdout",
     "output_type": "stream",
     "text": [
      "Collecting beautifulsoup4\n",
      "  Downloading beautifulsoup4-4.9.3-py3-none-any.whl (115 kB)\n",
      "\u001b[K     |████████████████████████████████| 115 kB 3.0 MB/s eta 0:00:01\n",
      "\u001b[?25hCollecting soupsieve>1.2\n",
      "  Downloading soupsieve-2.2.1-py3-none-any.whl (33 kB)\n",
      "Installing collected packages: soupsieve, beautifulsoup4\n",
      "Successfully installed beautifulsoup4-4.9.3 soupsieve-2.2.1\n",
      "Note: you may need to restart the kernel to use updated packages.\n"
     ]
    }
   ],
   "source": [
    "pip install beautifulsoup4"
   ]
  },
  {
   "cell_type": "markdown",
   "id": "899f7ee4-1005-4e3b-acc4-3836073f5e25",
   "metadata": {},
   "source": [
    "Importamos las librerias"
   ]
  },
  {
   "cell_type": "code",
   "execution_count": 3,
   "id": "326dc009-f0a8-45f6-a14c-ec78a61fd03d",
   "metadata": {
    "tags": []
   },
   "outputs": [],
   "source": [
    "import requests\n",
    "from bs4 import BeautifulSoup"
   ]
  },
  {
   "cell_type": "markdown",
   "id": "2e6cf198-224f-47ce-9259-a2b672144fe7",
   "metadata": {},
   "source": [
    "Scrapeamos la web de donde extraeremos los datos de ventas de videojuegos"
   ]
  },
  {
   "cell_type": "code",
   "execution_count": null,
   "id": "0c7deec6-b194-45cd-9829-b458c57c54f2",
   "metadata": {},
   "outputs": [],
   "source": [
    "url = 'https://www.vgchartz.com/gamedb/'\n",
    "\n",
    "page = requests.get(url, timeout=20) #leemos la web y colocamos timeout en caso de fallo\n",
    "\n",
    "page_content = BeautifulSoup(page.content, 'html.parser') #creamos los datos de la web\n",
    "\n",
    "gamedata = []\n",
    "\n",
    "gamedata = page_content.find_all(\"tr\") #capturamos todas las filas de la tabla\n",
    "for row in gamedata[3:]: #nos saltamos las primeras rows para no coger cabeceras\n",
    "    gamedataHtml = row.find_all(\"td\")[]"
   ]
  },
  {
   "cell_type": "markdown",
   "id": "c576e2b2-5991-4d43-9081-b7954d07fcca",
   "metadata": {},
   "source": [
    "Escrapeamos a web donde extraeremos los datos de los videojuegos más vistos en streaming"
   ]
  },
  {
   "cell_type": "code",
   "execution_count": 12,
   "id": "11db8ab6-45df-4c1e-bbc2-4d624ef73f59",
   "metadata": {},
   "outputs": [],
   "source": [
    "url = 'https://sullygnome.com/games/2020/watched'\n",
    "\n",
    "page = requests.get(url) #leemos la web y colocamos timeout en caso de fallo\n",
    "\n",
    "page_content = BeautifulSoup(page.content, 'html.parser') #creamos los datos de la web\n",
    "\n",
    "streamdata = []\n",
    "\n",
    "streamdata = page_content.find_all(\"tr\") #capturamos todas las filas de la tabla\n",
    "for row in streamdata[3:]: #nos saltamos las primeras rows para no coger cabeceras  \n",
    "    streamdataName = row.find(\"a\").text\n",
    "    streamdataHtml = row.find_all(\"td\")[3:]\n",
    "    streamdataArray = map(lambda data: data.text, streamdataHtml) #capturamos los textos de cada td\n",
    "    print(streamdataName, streamdataArray)\n",
    "    "
   ]
  },
  {
   "cell_type": "code",
   "execution_count": 13,
   "id": "bfc32195-460c-4c47-83c9-586f9aeb0812",
   "metadata": {},
   "outputs": [
    {
     "data": {
      "text/plain": [
       "<Response [404]>"
      ]
     },
     "execution_count": 13,
     "metadata": {},
     "output_type": "execute_result"
    }
   ],
   "source": [
    "page"
   ]
  },
  {
   "cell_type": "code",
   "execution_count": null,
   "id": "8a56d400-be1c-4260-a77a-2b39d1ec42c4",
   "metadata": {},
   "outputs": [],
   "source": []
  },
  {
   "cell_type": "code",
   "execution_count": null,
   "id": "6681bfb6-b15e-4d27-a3ae-d91fcee10c2d",
   "metadata": {},
   "outputs": [],
   "source": []
  }
 ],
 "metadata": {
  "kernelspec": {
   "display_name": "Python 3",
   "language": "python",
   "name": "python3"
  },
  "language_info": {
   "codemirror_mode": {
    "name": "ipython",
    "version": 3
   },
   "file_extension": ".py",
   "mimetype": "text/x-python",
   "name": "python",
   "nbconvert_exporter": "python",
   "pygments_lexer": "ipython3",
   "version": "3.9.4"
  }
 },
 "nbformat": 4,
 "nbformat_minor": 5
}
