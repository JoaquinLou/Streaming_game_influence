{
 "cells": [
  {
   "cell_type": "markdown",
   "id": "478fef4b-de00-4165-8e12-f9be4bb7a35c",
   "metadata": {},
   "source": [
    "# TFM v2"
   ]
  },
  {
   "cell_type": "markdown",
   "id": "e2d64407-43ea-4e22-b185-35a461b5177b",
   "metadata": {},
   "source": [
    "## Steam popularity"
   ]
  },
  {
   "cell_type": "code",
   "execution_count": 1,
   "id": "7204b44f-2a8e-48fa-8670-35dd0c7f85dc",
   "metadata": {},
   "outputs": [],
   "source": [
    "import seaborn as sns\n",
    "import pandas as pd\n",
    "import numpy as np\n",
    "import matplotlib.pyplot as plt\n",
    "from datetime import datetime\n",
    "import calendar"
   ]
  },
  {
   "cell_type": "code",
   "execution_count": 2,
   "id": "3408ef3a-16dd-42d9-b8f9-d2e340c1c013",
   "metadata": {},
   "outputs": [],
   "source": [
    "df_steam = pd.read_csv('Popularity_games_Steam_Charts.csv')"
   ]
  },
  {
   "cell_type": "code",
   "execution_count": 3,
   "id": "c2957971-fff1-47c4-9b10-c07033948d17",
   "metadata": {},
   "outputs": [
    {
     "data": {
      "text/html": [
       "<div>\n",
       "<style scoped>\n",
       "    .dataframe tbody tr th:only-of-type {\n",
       "        vertical-align: middle;\n",
       "    }\n",
       "\n",
       "    .dataframe tbody tr th {\n",
       "        vertical-align: top;\n",
       "    }\n",
       "\n",
       "    .dataframe thead th {\n",
       "        text-align: right;\n",
       "    }\n",
       "</style>\n",
       "<table border=\"1\" class=\"dataframe\">\n",
       "  <thead>\n",
       "    <tr style=\"text-align: right;\">\n",
       "      <th></th>\n",
       "      <th>gamename</th>\n",
       "      <th>year</th>\n",
       "      <th>month</th>\n",
       "      <th>avg</th>\n",
       "      <th>gain</th>\n",
       "      <th>peak</th>\n",
       "      <th>avg_peak_perc</th>\n",
       "    </tr>\n",
       "  </thead>\n",
       "  <tbody>\n",
       "    <tr>\n",
       "      <th>0</th>\n",
       "      <td>Counter-Strike: Global Offensive</td>\n",
       "      <td>2021</td>\n",
       "      <td>February</td>\n",
       "      <td>741013.24</td>\n",
       "      <td>-2196.42</td>\n",
       "      <td>1123485</td>\n",
       "      <td>65.9567%</td>\n",
       "    </tr>\n",
       "    <tr>\n",
       "      <th>1</th>\n",
       "      <td>Counter-Strike: Global Offensive</td>\n",
       "      <td>2021</td>\n",
       "      <td>January</td>\n",
       "      <td>743209.66</td>\n",
       "      <td>25405.91</td>\n",
       "      <td>1124553</td>\n",
       "      <td>66.0893%</td>\n",
       "    </tr>\n",
       "    <tr>\n",
       "      <th>2</th>\n",
       "      <td>Counter-Strike: Global Offensive</td>\n",
       "      <td>2020</td>\n",
       "      <td>December</td>\n",
       "      <td>717803.75</td>\n",
       "      <td>49049.17</td>\n",
       "      <td>1164396</td>\n",
       "      <td>61.646%</td>\n",
       "    </tr>\n",
       "    <tr>\n",
       "      <th>3</th>\n",
       "      <td>Counter-Strike: Global Offensive</td>\n",
       "      <td>2020</td>\n",
       "      <td>November</td>\n",
       "      <td>668754.58</td>\n",
       "      <td>55087.89</td>\n",
       "      <td>1037464</td>\n",
       "      <td>64.4605%</td>\n",
       "    </tr>\n",
       "    <tr>\n",
       "      <th>4</th>\n",
       "      <td>Counter-Strike: Global Offensive</td>\n",
       "      <td>2020</td>\n",
       "      <td>October</td>\n",
       "      <td>613666.69</td>\n",
       "      <td>6816.37</td>\n",
       "      <td>943876</td>\n",
       "      <td>65.0156%</td>\n",
       "    </tr>\n",
       "  </tbody>\n",
       "</table>\n",
       "</div>"
      ],
      "text/plain": [
       "                           gamename  year      month        avg      gain  \\\n",
       "0  Counter-Strike: Global Offensive  2021  February   741013.24  -2196.42   \n",
       "1  Counter-Strike: Global Offensive  2021   January   743209.66  25405.91   \n",
       "2  Counter-Strike: Global Offensive  2020  December   717803.75  49049.17   \n",
       "3  Counter-Strike: Global Offensive  2020  November   668754.58  55087.89   \n",
       "4  Counter-Strike: Global Offensive  2020   October   613666.69   6816.37   \n",
       "\n",
       "      peak avg_peak_perc  \n",
       "0  1123485      65.9567%  \n",
       "1  1124553      66.0893%  \n",
       "2  1164396       61.646%  \n",
       "3  1037464      64.4605%  \n",
       "4   943876      65.0156%  "
      ]
     },
     "execution_count": 3,
     "metadata": {},
     "output_type": "execute_result"
    }
   ],
   "source": [
    "df_steam.head()"
   ]
  },
  {
   "cell_type": "code",
   "execution_count": 4,
   "id": "be275654-056d-4c62-ad20-b49a6c41846b",
   "metadata": {},
   "outputs": [
    {
     "data": {
      "text/html": [
       "<div>\n",
       "<style scoped>\n",
       "    .dataframe tbody tr th:only-of-type {\n",
       "        vertical-align: middle;\n",
       "    }\n",
       "\n",
       "    .dataframe tbody tr th {\n",
       "        vertical-align: top;\n",
       "    }\n",
       "\n",
       "    .dataframe thead th {\n",
       "        text-align: right;\n",
       "    }\n",
       "</style>\n",
       "<table border=\"1\" class=\"dataframe\">\n",
       "  <thead>\n",
       "    <tr style=\"text-align: right;\">\n",
       "      <th></th>\n",
       "      <th>gamename</th>\n",
       "      <th>year</th>\n",
       "      <th>month</th>\n",
       "      <th>avg</th>\n",
       "      <th>gain</th>\n",
       "      <th>peak</th>\n",
       "      <th>avg_peak_perc</th>\n",
       "    </tr>\n",
       "  </thead>\n",
       "  <tbody>\n",
       "    <tr>\n",
       "      <th>83784</th>\n",
       "      <td>Steel Division: Normandy 44</td>\n",
       "      <td>2017</td>\n",
       "      <td>July</td>\n",
       "      <td>421.60</td>\n",
       "      <td>-485.13</td>\n",
       "      <td>987</td>\n",
       "      <td>42.7153%</td>\n",
       "    </tr>\n",
       "    <tr>\n",
       "      <th>83785</th>\n",
       "      <td>Steel Division: Normandy 44</td>\n",
       "      <td>2017</td>\n",
       "      <td>June</td>\n",
       "      <td>906.74</td>\n",
       "      <td>-231.92</td>\n",
       "      <td>2584</td>\n",
       "      <td>35.0906%</td>\n",
       "    </tr>\n",
       "    <tr>\n",
       "      <th>83786</th>\n",
       "      <td>Steel Division: Normandy 44</td>\n",
       "      <td>2017</td>\n",
       "      <td>May</td>\n",
       "      <td>1138.66</td>\n",
       "      <td>415.61</td>\n",
       "      <td>4606</td>\n",
       "      <td>24.7212%</td>\n",
       "    </tr>\n",
       "    <tr>\n",
       "      <th>83787</th>\n",
       "      <td>Steel Division: Normandy 44</td>\n",
       "      <td>2017</td>\n",
       "      <td>April</td>\n",
       "      <td>723.05</td>\n",
       "      <td>720.21</td>\n",
       "      <td>1911</td>\n",
       "      <td>37.8362%</td>\n",
       "    </tr>\n",
       "    <tr>\n",
       "      <th>83788</th>\n",
       "      <td>Steel Division: Normandy 44</td>\n",
       "      <td>2017</td>\n",
       "      <td>March</td>\n",
       "      <td>2.84</td>\n",
       "      <td>NaN</td>\n",
       "      <td>14</td>\n",
       "      <td>20.2857%</td>\n",
       "    </tr>\n",
       "  </tbody>\n",
       "</table>\n",
       "</div>"
      ],
      "text/plain": [
       "                          gamename  year   month      avg    gain  peak  \\\n",
       "83784  Steel Division: Normandy 44  2017   July    421.60 -485.13   987   \n",
       "83785  Steel Division: Normandy 44  2017   June    906.74 -231.92  2584   \n",
       "83786  Steel Division: Normandy 44  2017    May   1138.66  415.61  4606   \n",
       "83787  Steel Division: Normandy 44  2017  April    723.05  720.21  1911   \n",
       "83788  Steel Division: Normandy 44  2017  March      2.84     NaN    14   \n",
       "\n",
       "      avg_peak_perc  \n",
       "83784      42.7153%  \n",
       "83785      35.0906%  \n",
       "83786      24.7212%  \n",
       "83787      37.8362%  \n",
       "83788      20.2857%  "
      ]
     },
     "execution_count": 4,
     "metadata": {},
     "output_type": "execute_result"
    }
   ],
   "source": [
    "df_steam.tail()"
   ]
  },
  {
   "cell_type": "code",
   "execution_count": 5,
   "id": "6e60d6a5-c410-4228-9764-749d6f79cb0f",
   "metadata": {},
   "outputs": [
    {
     "name": "stdout",
     "output_type": "stream",
     "text": [
      "<class 'pandas.core.frame.DataFrame'>\n",
      "RangeIndex: 83789 entries, 0 to 83788\n",
      "Data columns (total 7 columns):\n",
      " #   Column         Non-Null Count  Dtype  \n",
      "---  ------         --------------  -----  \n",
      " 0   gamename       83789 non-null  object \n",
      " 1   year           83789 non-null  int64  \n",
      " 2   month          83789 non-null  object \n",
      " 3   avg            83789 non-null  float64\n",
      " 4   gain           82529 non-null  float64\n",
      " 5   peak           83789 non-null  int64  \n",
      " 6   avg_peak_perc  83789 non-null  object \n",
      "dtypes: float64(2), int64(2), object(3)\n",
      "memory usage: 4.5+ MB\n"
     ]
    }
   ],
   "source": [
    "df_steam.info()"
   ]
  },
  {
   "cell_type": "code",
   "execution_count": 6,
   "id": "df443861-2e50-4363-ab8a-8307493e0559",
   "metadata": {},
   "outputs": [
    {
     "data": {
      "text/plain": [
       "(83789, 7)"
      ]
     },
     "execution_count": 6,
     "metadata": {},
     "output_type": "execute_result"
    }
   ],
   "source": [
    "df_steam.shape"
   ]
  },
  {
   "cell_type": "code",
   "execution_count": 7,
   "id": "a781e592-e4c5-4aae-a9a9-5b50f24e1b48",
   "metadata": {},
   "outputs": [
    {
     "data": {
      "text/plain": [
       "1260"
      ]
     },
     "execution_count": 7,
     "metadata": {},
     "output_type": "execute_result"
    }
   ],
   "source": [
    "# How much games we have\n",
    "df_steam['gamename'].nunique()"
   ]
  },
  {
   "cell_type": "code",
   "execution_count": 8,
   "id": "0b1fa7db-a4cc-4062-ac1b-cb50e922461e",
   "metadata": {},
   "outputs": [
    {
     "data": {
      "text/plain": [
       "array(['February ', 'January ', 'December ', 'November ', 'October ',\n",
       "       'September ', 'August ', 'July ', 'June ', 'May ', 'April ',\n",
       "       'March '], dtype=object)"
      ]
     },
     "execution_count": 8,
     "metadata": {},
     "output_type": "execute_result"
    }
   ],
   "source": [
    "# How much games we have\n",
    "df_steam['month'].unique()"
   ]
  },
  {
   "cell_type": "code",
   "execution_count": 15,
   "id": "f249c57a-f10e-4301-a7a5-66f4195e8da7",
   "metadata": {},
   "outputs": [
    {
     "ename": "TypeError",
     "evalue": "'function' object is not iterable",
     "output_type": "error",
     "traceback": [
      "\u001b[0;31m---------------------------------------------------------------------------\u001b[0m",
      "\u001b[0;31mTypeError\u001b[0m                                 Traceback (most recent call last)",
      "\u001b[0;32m<ipython-input-15-2682d4ed137b>\u001b[0m in \u001b[0;36m<module>\u001b[0;34m\u001b[0m\n\u001b[0;32m----> 1\u001b[0;31m \u001b[0md\u001b[0m \u001b[0;34m=\u001b[0m \u001b[0mdict\u001b[0m\u001b[0;34m(\u001b[0m\u001b[0;34m(\u001b[0m\u001b[0mv\u001b[0m\u001b[0;34m,\u001b[0m\u001b[0mk\u001b[0m\u001b[0;34m)\u001b[0m \u001b[0;32mfor\u001b[0m \u001b[0mk\u001b[0m\u001b[0;34m,\u001b[0m\u001b[0mv\u001b[0m \u001b[0;32min\u001b[0m \u001b[0menumerate\u001b[0m\u001b[0;34m(\u001b[0m\u001b[0mcalendar\u001b[0m\u001b[0;34m.\u001b[0m\u001b[0mmonthrange\u001b[0m\u001b[0;34m)\u001b[0m\u001b[0;34m)\u001b[0m\u001b[0;34m\u001b[0m\u001b[0;34m\u001b[0m\u001b[0m\n\u001b[0m",
      "\u001b[0;31mTypeError\u001b[0m: 'function' object is not iterable"
     ]
    }
   ],
   "source": [
    "d = dict((v,k) for k,v in enumerate(calendar.monthrange))"
   ]
  },
  {
   "cell_type": "code",
   "execution_count": 10,
   "id": "5e59f250-4e55-4f52-8a36-5189d76e7c7b",
   "metadata": {},
   "outputs": [],
   "source": [
    "df_steam['month_number'] = df_steam['month'].map(d)"
   ]
  },
  {
   "cell_type": "code",
   "execution_count": 11,
   "id": "749e5e4d-c60e-4f7d-80c5-b3c9fa92fc07",
   "metadata": {},
   "outputs": [
    {
     "data": {
      "text/html": [
       "<div>\n",
       "<style scoped>\n",
       "    .dataframe tbody tr th:only-of-type {\n",
       "        vertical-align: middle;\n",
       "    }\n",
       "\n",
       "    .dataframe tbody tr th {\n",
       "        vertical-align: top;\n",
       "    }\n",
       "\n",
       "    .dataframe thead th {\n",
       "        text-align: right;\n",
       "    }\n",
       "</style>\n",
       "<table border=\"1\" class=\"dataframe\">\n",
       "  <thead>\n",
       "    <tr style=\"text-align: right;\">\n",
       "      <th></th>\n",
       "      <th>gamename</th>\n",
       "      <th>year</th>\n",
       "      <th>month</th>\n",
       "      <th>avg</th>\n",
       "      <th>gain</th>\n",
       "      <th>peak</th>\n",
       "      <th>avg_peak_perc</th>\n",
       "      <th>month_number</th>\n",
       "    </tr>\n",
       "  </thead>\n",
       "  <tbody>\n",
       "    <tr>\n",
       "      <th>0</th>\n",
       "      <td>Counter-Strike: Global Offensive</td>\n",
       "      <td>2021</td>\n",
       "      <td>February</td>\n",
       "      <td>741013.24</td>\n",
       "      <td>-2196.42</td>\n",
       "      <td>1123485</td>\n",
       "      <td>65.9567%</td>\n",
       "      <td>NaN</td>\n",
       "    </tr>\n",
       "    <tr>\n",
       "      <th>1</th>\n",
       "      <td>Counter-Strike: Global Offensive</td>\n",
       "      <td>2021</td>\n",
       "      <td>January</td>\n",
       "      <td>743209.66</td>\n",
       "      <td>25405.91</td>\n",
       "      <td>1124553</td>\n",
       "      <td>66.0893%</td>\n",
       "      <td>NaN</td>\n",
       "    </tr>\n",
       "    <tr>\n",
       "      <th>2</th>\n",
       "      <td>Counter-Strike: Global Offensive</td>\n",
       "      <td>2020</td>\n",
       "      <td>December</td>\n",
       "      <td>717803.75</td>\n",
       "      <td>49049.17</td>\n",
       "      <td>1164396</td>\n",
       "      <td>61.646%</td>\n",
       "      <td>NaN</td>\n",
       "    </tr>\n",
       "    <tr>\n",
       "      <th>3</th>\n",
       "      <td>Counter-Strike: Global Offensive</td>\n",
       "      <td>2020</td>\n",
       "      <td>November</td>\n",
       "      <td>668754.58</td>\n",
       "      <td>55087.89</td>\n",
       "      <td>1037464</td>\n",
       "      <td>64.4605%</td>\n",
       "      <td>NaN</td>\n",
       "    </tr>\n",
       "    <tr>\n",
       "      <th>4</th>\n",
       "      <td>Counter-Strike: Global Offensive</td>\n",
       "      <td>2020</td>\n",
       "      <td>October</td>\n",
       "      <td>613666.69</td>\n",
       "      <td>6816.37</td>\n",
       "      <td>943876</td>\n",
       "      <td>65.0156%</td>\n",
       "      <td>NaN</td>\n",
       "    </tr>\n",
       "  </tbody>\n",
       "</table>\n",
       "</div>"
      ],
      "text/plain": [
       "                           gamename  year      month        avg      gain  \\\n",
       "0  Counter-Strike: Global Offensive  2021  February   741013.24  -2196.42   \n",
       "1  Counter-Strike: Global Offensive  2021   January   743209.66  25405.91   \n",
       "2  Counter-Strike: Global Offensive  2020  December   717803.75  49049.17   \n",
       "3  Counter-Strike: Global Offensive  2020  November   668754.58  55087.89   \n",
       "4  Counter-Strike: Global Offensive  2020   October   613666.69   6816.37   \n",
       "\n",
       "      peak avg_peak_perc  month_number  \n",
       "0  1123485      65.9567%           NaN  \n",
       "1  1124553      66.0893%           NaN  \n",
       "2  1164396       61.646%           NaN  \n",
       "3  1037464      64.4605%           NaN  \n",
       "4   943876      65.0156%           NaN  "
      ]
     },
     "execution_count": 11,
     "metadata": {},
     "output_type": "execute_result"
    }
   ],
   "source": [
    "df_steam.head()"
   ]
  },
  {
   "cell_type": "code",
   "execution_count": 83,
   "id": "f0be7220-ba58-4acd-860e-3cfb6bb77dfe",
   "metadata": {},
   "outputs": [],
   "source": [
    "df_steam_year = df_steam.groupby(['year','month']).sum()['avg']"
   ]
  },
  {
   "cell_type": "code",
   "execution_count": 84,
   "id": "db5d65c2-6da8-4d30-9029-3a931f929454",
   "metadata": {},
   "outputs": [
    {
     "data": {
      "text/plain": [
       "<AxesSubplot:xlabel='year,month'>"
      ]
     },
     "execution_count": 84,
     "metadata": {},
     "output_type": "execute_result"
    },
    {
     "data": {
      "image/png": "[encoded data removed]",
      "text/plain": [
       "<Figure size 1080x216 with 1 Axes>"
      ]
     },
     "metadata": {
      "needs_background": "light"
     },
     "output_type": "display_data"
    }
   ],
   "source": [
    "plt.figure(figsize=(15, 3))\n",
    "df_steam_year.plot()"
   ]
  },
  {
   "cell_type": "code",
   "execution_count": null,
   "id": "c873e504-6eff-404b-b297-ff101593a481",
   "metadata": {},
   "outputs": [],
   "source": []
  },
  {
   "cell_type": "code",
   "execution_count": 12,
   "id": "80d59e15-6dd3-4293-98ad-d132c7f3759f",
   "metadata": {},
   "outputs": [
    {
     "data": {
      "text/plain": [
       "month\n",
       "April         2842.694788\n",
       "August        2701.894005\n",
       "December      2942.719318\n",
       "February      2958.946605\n",
       "January       3079.555741\n",
       "July          2756.634665\n",
       "June          2757.791533\n",
       "March         2861.094525\n",
       "May           2743.111273\n",
       "November      2696.482128\n",
       "October       2593.474025\n",
       "September     2545.836073\n",
       "Name: avg, dtype: float64"
      ]
     },
     "execution_count": 12,
     "metadata": {},
     "output_type": "execute_result"
    }
   ],
   "source": [
    "df_steam_month = df_steam.groupby(['month']).mean()['avg']\n",
    "df_steam_month"
   ]
  },
  {
   "cell_type": "code",
   "execution_count": null,
   "id": "a2c1d3a7-bcc9-4f1e-81d5-33b959564300",
   "metadata": {},
   "outputs": [],
   "source": [
    "plt.figure(figsize=(15, 3))\n",
    "df_steam_month.plot()"
   ]
  },
  {
   "cell_type": "code",
   "execution_count": 8,
   "id": "ccf44fc4-0f04-45cd-a5ef-c84ce7b9a57f",
   "metadata": {},
   "outputs": [
    {
     "data": {
      "text/plain": [
       "<AxesSubplot:xlabel='year,month'>"
      ]
     },
     "execution_count": 8,
     "metadata": {},
     "output_type": "execute_result"
    },
    {
     "data": {
      "image/png": "[encoded data removed]",
      "text/plain": [
       "<Figure size 1080x216 with 1 Axes>"
      ]
     },
     "metadata": {
      "needs_background": "light"
     },
     "output_type": "display_data"
    }
   ],
   "source": [
    "df_steam_year = df_steam.groupby(['year','month']).mean()['gain']\n",
    "plt.figure(figsize=(15, 3))\n",
    "df_steam_year.plot()"
   ]
  },
  {
   "cell_type": "code",
   "execution_count": 96,
   "id": "58080e54-ecc6-4096-ae2d-77007d15b560",
   "metadata": {},
   "outputs": [
    {
     "data": {
      "text/html": [
       "<style  type=\"text/css\" >\n",
       "#T_d6271_row0_col0,#T_d6271_row1_col1,#T_d6271_row2_col2,#T_d6271_row3_col3{\n",
       "            background-color:  #b40426;\n",
       "            color:  #f1f1f1;\n",
       "        }#T_d6271_row0_col1,#T_d6271_row0_col2,#T_d6271_row0_col3,#T_d6271_row2_col0{\n",
       "            background-color:  #3b4cc0;\n",
       "            color:  #f1f1f1;\n",
       "        }#T_d6271_row1_col0{\n",
       "            background-color:  #3e51c5;\n",
       "            color:  #f1f1f1;\n",
       "        }#T_d6271_row1_col2{\n",
       "            background-color:  #5a78e4;\n",
       "            color:  #000000;\n",
       "        }#T_d6271_row1_col3,#T_d6271_row3_col1{\n",
       "            background-color:  #b8122a;\n",
       "            color:  #f1f1f1;\n",
       "        }#T_d6271_row2_col1{\n",
       "            background-color:  #5673e0;\n",
       "            color:  #000000;\n",
       "        }#T_d6271_row2_col3{\n",
       "            background-color:  #5875e1;\n",
       "            color:  #000000;\n",
       "        }#T_d6271_row3_col0{\n",
       "            background-color:  #3d50c3;\n",
       "            color:  #f1f1f1;\n",
       "        }#T_d6271_row3_col2{\n",
       "            background-color:  #5b7ae5;\n",
       "            color:  #000000;\n",
       "        }</style><table id=\"T_d6271_\" ><thead>    <tr>        <th class=\"blank level0\" ></th>        <th class=\"col_heading level0 col0\" >year</th>        <th class=\"col_heading level0 col1\" >avg</th>        <th class=\"col_heading level0 col2\" >gain</th>        <th class=\"col_heading level0 col3\" >peak</th>    </tr></thead><tbody>\n",
       "                <tr>\n",
       "                        <th id=\"T_d6271_level0_row0\" class=\"row_heading level0 row0\" >year</th>\n",
       "                        <td id=\"T_d6271_row0_col0\" class=\"data row0 col0\" >1.000000</td>\n",
       "                        <td id=\"T_d6271_row0_col1\" class=\"data row0 col1\" >0.008840</td>\n",
       "                        <td id=\"T_d6271_row0_col2\" class=\"data row0 col2\" >-0.004343</td>\n",
       "                        <td id=\"T_d6271_row0_col3\" class=\"data row0 col3\" >0.006567</td>\n",
       "            </tr>\n",
       "            <tr>\n",
       "                        <th id=\"T_d6271_level0_row1\" class=\"row_heading level0 row1\" >avg</th>\n",
       "                        <td id=\"T_d6271_row1_col0\" class=\"data row1 col0\" >0.008840</td>\n",
       "                        <td id=\"T_d6271_row1_col1\" class=\"data row1 col1\" >1.000000</td>\n",
       "                        <td id=\"T_d6271_row1_col2\" class=\"data row1 col2\" >0.099651</td>\n",
       "                        <td id=\"T_d6271_row1_col3\" class=\"data row1 col3\" >0.987918</td>\n",
       "            </tr>\n",
       "            <tr>\n",
       "                        <th id=\"T_d6271_level0_row2\" class=\"row_heading level0 row2\" >gain</th>\n",
       "                        <td id=\"T_d6271_row2_col0\" class=\"data row2 col0\" >-0.004343</td>\n",
       "                        <td id=\"T_d6271_row2_col1\" class=\"data row2 col1\" >0.099651</td>\n",
       "                        <td id=\"T_d6271_row2_col2\" class=\"data row2 col2\" >1.000000</td>\n",
       "                        <td id=\"T_d6271_row2_col3\" class=\"data row2 col3\" >0.102983</td>\n",
       "            </tr>\n",
       "            <tr>\n",
       "                        <th id=\"T_d6271_level0_row3\" class=\"row_heading level0 row3\" >peak</th>\n",
       "                        <td id=\"T_d6271_row3_col0\" class=\"data row3 col0\" >0.006567</td>\n",
       "                        <td id=\"T_d6271_row3_col1\" class=\"data row3 col1\" >0.987918</td>\n",
       "                        <td id=\"T_d6271_row3_col2\" class=\"data row3 col2\" >0.102983</td>\n",
       "                        <td id=\"T_d6271_row3_col3\" class=\"data row3 col3\" >1.000000</td>\n",
       "            </tr>\n",
       "    </tbody></table>"
      ],
      "text/plain": [
       "<pandas.io.formats.style.Styler at 0x7f223af28dc0>"
      ]
     },
     "execution_count": 96,
     "metadata": {},
     "output_type": "execute_result"
    }
   ],
   "source": [
    "steam_corr = df_steam.corr()\n",
    "steam_corr.style.background_gradient(cmap='coolwarm')"
   ]
  },
  {
   "cell_type": "code",
   "execution_count": 104,
   "id": "bc367d60-5999-4a57-b8ae-3bd43ee05d51",
   "metadata": {},
   "outputs": [
    {
     "data": {
      "text/plain": [
       "Index(['gamename', 'year', 'month', 'avg', 'gain', 'peak', 'avg_peak_perc'], dtype='object')"
      ]
     },
     "execution_count": 104,
     "metadata": {},
     "output_type": "execute_result"
    }
   ],
   "source": [
    "df_steam.columns"
   ]
  },
  {
   "cell_type": "code",
   "execution_count": 119,
   "id": "1b260a16-a2f5-4107-84cf-f1f419214951",
   "metadata": {},
   "outputs": [
    {
     "data": {
      "text/plain": [
       "gamename         83789\n",
       "year             83789\n",
       "month            83789\n",
       "avg              83789\n",
       "gain             82529\n",
       "peak             83789\n",
       "avg_peak_perc    83789\n",
       "dtype: int64"
      ]
     },
     "execution_count": 119,
     "metadata": {},
     "output_type": "execute_result"
    }
   ],
   "source": [
    "df_steam.count()"
   ]
  },
  {
   "cell_type": "markdown",
   "id": "9dd70d4d-b24a-4494-91b4-9c8e8f16e320",
   "metadata": {},
   "source": [
    "## Twitch popularity"
   ]
  },
  {
   "cell_type": "code",
   "execution_count": 45,
   "id": "13fed08e-1495-40b4-bf50-5e555507c593",
   "metadata": {},
   "outputs": [],
   "source": [
    "df_twitch = pd.read_csv('Twitch_game_data.csv')"
   ]
  },
  {
   "cell_type": "code",
   "execution_count": 120,
   "id": "fe273257-886b-4af2-985a-70c561f0e154",
   "metadata": {},
   "outputs": [
    {
     "data": {
      "text/plain": [
       "Rank                12750\n",
       "Game                12749\n",
       "Month               12750\n",
       "Year                12750\n",
       "Hours_watched       12750\n",
       "Hours_Streamed      12750\n",
       "Peak_viewers        12750\n",
       "Peak_channels       12750\n",
       "Streamers           12750\n",
       "Avg_viewers         12750\n",
       "Avg_channels        12750\n",
       "Avg_viewer_ratio    12750\n",
       "dtype: int64"
      ]
     },
     "execution_count": 120,
     "metadata": {},
     "output_type": "execute_result"
    }
   ],
   "source": [
    "df_twitch.count()"
   ]
  },
  {
   "cell_type": "code",
   "execution_count": 105,
   "id": "90086f31-9aaf-4aa7-bdf5-da39ea2e95a7",
   "metadata": {},
   "outputs": [
    {
     "data": {
      "text/html": [
       "<div>\n",
       "<style scoped>\n",
       "    .dataframe tbody tr th:only-of-type {\n",
       "        vertical-align: middle;\n",
       "    }\n",
       "\n",
       "    .dataframe tbody tr th {\n",
       "        vertical-align: top;\n",
       "    }\n",
       "\n",
       "    .dataframe thead th {\n",
       "        text-align: right;\n",
       "    }\n",
       "</style>\n",
       "<table border=\"1\" class=\"dataframe\">\n",
       "  <thead>\n",
       "    <tr style=\"text-align: right;\">\n",
       "      <th></th>\n",
       "      <th>Rank</th>\n",
       "      <th>Game</th>\n",
       "      <th>Month</th>\n",
       "      <th>Year</th>\n",
       "      <th>Hours_watched</th>\n",
       "      <th>Hours_Streamed</th>\n",
       "      <th>Peak_viewers</th>\n",
       "      <th>Peak_channels</th>\n",
       "      <th>Streamers</th>\n",
       "      <th>Avg_viewers</th>\n",
       "      <th>Avg_channels</th>\n",
       "      <th>Avg_viewer_ratio</th>\n",
       "    </tr>\n",
       "  </thead>\n",
       "  <tbody>\n",
       "    <tr>\n",
       "      <th>0</th>\n",
       "      <td>1</td>\n",
       "      <td>League of Legends</td>\n",
       "      <td>1</td>\n",
       "      <td>2016</td>\n",
       "      <td>94377226</td>\n",
       "      <td>1362044 hours</td>\n",
       "      <td>530270</td>\n",
       "      <td>2903</td>\n",
       "      <td>129172</td>\n",
       "      <td>127021</td>\n",
       "      <td>1833</td>\n",
       "      <td>69.29</td>\n",
       "    </tr>\n",
       "    <tr>\n",
       "      <th>1</th>\n",
       "      <td>2</td>\n",
       "      <td>Counter-Strike: Global Offensive</td>\n",
       "      <td>1</td>\n",
       "      <td>2016</td>\n",
       "      <td>47832863</td>\n",
       "      <td>830105 hours</td>\n",
       "      <td>372654</td>\n",
       "      <td>2197</td>\n",
       "      <td>120849</td>\n",
       "      <td>64378</td>\n",
       "      <td>1117</td>\n",
       "      <td>57.62</td>\n",
       "    </tr>\n",
       "    <tr>\n",
       "      <th>2</th>\n",
       "      <td>3</td>\n",
       "      <td>Dota 2</td>\n",
       "      <td>1</td>\n",
       "      <td>2016</td>\n",
       "      <td>45185893</td>\n",
       "      <td>433397 hours</td>\n",
       "      <td>315083</td>\n",
       "      <td>1100</td>\n",
       "      <td>44074</td>\n",
       "      <td>60815</td>\n",
       "      <td>583</td>\n",
       "      <td>104.26</td>\n",
       "    </tr>\n",
       "    <tr>\n",
       "      <th>3</th>\n",
       "      <td>4</td>\n",
       "      <td>Hearthstone</td>\n",
       "      <td>1</td>\n",
       "      <td>2016</td>\n",
       "      <td>39936159</td>\n",
       "      <td>235903 hours</td>\n",
       "      <td>131357</td>\n",
       "      <td>517</td>\n",
       "      <td>36170</td>\n",
       "      <td>53749</td>\n",
       "      <td>317</td>\n",
       "      <td>169.29</td>\n",
       "    </tr>\n",
       "    <tr>\n",
       "      <th>4</th>\n",
       "      <td>5</td>\n",
       "      <td>Call of Duty: Black Ops III</td>\n",
       "      <td>1</td>\n",
       "      <td>2016</td>\n",
       "      <td>16153057</td>\n",
       "      <td>1151578 hours</td>\n",
       "      <td>71639</td>\n",
       "      <td>3620</td>\n",
       "      <td>214054</td>\n",
       "      <td>21740</td>\n",
       "      <td>1549</td>\n",
       "      <td>14.03</td>\n",
       "    </tr>\n",
       "  </tbody>\n",
       "</table>\n",
       "</div>"
      ],
      "text/plain": [
       "   Rank                              Game  Month  Year  Hours_watched  \\\n",
       "0     1                 League of Legends      1  2016       94377226   \n",
       "1     2  Counter-Strike: Global Offensive      1  2016       47832863   \n",
       "2     3                            Dota 2      1  2016       45185893   \n",
       "3     4                       Hearthstone      1  2016       39936159   \n",
       "4     5       Call of Duty: Black Ops III      1  2016       16153057   \n",
       "\n",
       "  Hours_Streamed  Peak_viewers  Peak_channels  Streamers  Avg_viewers  \\\n",
       "0  1362044 hours        530270           2903     129172       127021   \n",
       "1   830105 hours        372654           2197     120849        64378   \n",
       "2   433397 hours        315083           1100      44074        60815   \n",
       "3   235903 hours        131357            517      36170        53749   \n",
       "4  1151578 hours         71639           3620     214054        21740   \n",
       "\n",
       "   Avg_channels  Avg_viewer_ratio  \n",
       "0          1833             69.29  \n",
       "1          1117             57.62  \n",
       "2           583            104.26  \n",
       "3           317            169.29  \n",
       "4          1549             14.03  "
      ]
     },
     "execution_count": 105,
     "metadata": {},
     "output_type": "execute_result"
    }
   ],
   "source": [
    "df_twitch.head()"
   ]
  },
  {
   "cell_type": "code",
   "execution_count": 99,
   "id": "3ba1772c-7a8f-49e4-9c64-e36b3183a8b6",
   "metadata": {},
   "outputs": [],
   "source": [
    "df_twitch_year = df_twitch.groupby(['Year','Month']).sum()['Avg_channels']"
   ]
  },
  {
   "cell_type": "code",
   "execution_count": 100,
   "id": "4441bf76-4b26-4db3-a7bc-68f4fae9db80",
   "metadata": {},
   "outputs": [
    {
     "data": {
      "text/plain": [
       "<AxesSubplot:xlabel='Year,Month'>"
      ]
     },
     "execution_count": 100,
     "metadata": {},
     "output_type": "execute_result"
    },
    {
     "data": {
      "image/png": "[encoded data removed]",
      "text/plain": [
       "<Figure size 1080x216 with 1 Axes>"
      ]
     },
     "metadata": {
      "needs_background": "light"
     },
     "output_type": "display_data"
    }
   ],
   "source": [
    "plt.figure(figsize=(15, 3))\n",
    "df_twitch_year.plot()"
   ]
  },
  {
   "cell_type": "code",
   "execution_count": 98,
   "id": "4fa18b68-bcae-43f6-9c73-9c134e5fd755",
   "metadata": {},
   "outputs": [
    {
     "data": {
      "text/html": [
       "<style  type=\"text/css\" >\n",
       "#T_e1133_row0_col0,#T_e1133_row1_col1,#T_e1133_row2_col2,#T_e1133_row3_col3,#T_e1133_row3_col7,#T_e1133_row4_col4,#T_e1133_row5_col5,#T_e1133_row6_col6,#T_e1133_row7_col3,#T_e1133_row7_col7,#T_e1133_row8_col8,#T_e1133_row9_col9{\n",
       "            background-color:  #b40426;\n",
       "            color:  #f1f1f1;\n",
       "        }#T_e1133_row0_col1,#T_e1133_row0_col2,#T_e1133_row4_col9{\n",
       "            background-color:  #5f7fe8;\n",
       "            color:  #000000;\n",
       "        }#T_e1133_row0_col3,#T_e1133_row0_col4,#T_e1133_row0_col5,#T_e1133_row0_col6,#T_e1133_row0_col7,#T_e1133_row0_col8,#T_e1133_row1_col2,#T_e1133_row2_col1,#T_e1133_row2_col9,#T_e1133_row3_col0,#T_e1133_row7_col0{\n",
       "            background-color:  #3b4cc0;\n",
       "            color:  #f1f1f1;\n",
       "        }#T_e1133_row0_col9,#T_e1133_row5_col1{\n",
       "            background-color:  #6282ea;\n",
       "            color:  #000000;\n",
       "        }#T_e1133_row1_col0,#T_e1133_row2_col0{\n",
       "            background-color:  #97b8ff;\n",
       "            color:  #000000;\n",
       "        }#T_e1133_row1_col3,#T_e1133_row1_col7{\n",
       "            background-color:  #94b6ff;\n",
       "            color:  #000000;\n",
       "        }#T_e1133_row1_col4,#T_e1133_row1_col8,#T_e1133_row3_col2,#T_e1133_row7_col2{\n",
       "            background-color:  #8badfd;\n",
       "            color:  #000000;\n",
       "        }#T_e1133_row1_col5{\n",
       "            background-color:  #7da0f9;\n",
       "            color:  #000000;\n",
       "        }#T_e1133_row1_col6{\n",
       "            background-color:  #8db0fe;\n",
       "            color:  #000000;\n",
       "        }#T_e1133_row1_col9,#T_e1133_row8_col9{\n",
       "            background-color:  #4055c8;\n",
       "            color:  #f1f1f1;\n",
       "        }#T_e1133_row2_col3{\n",
       "            background-color:  #b9d0f9;\n",
       "            color:  #000000;\n",
       "        }#T_e1133_row2_col4,#T_e1133_row2_col6{\n",
       "            background-color:  #b2ccfb;\n",
       "            color:  #000000;\n",
       "        }#T_e1133_row2_col5{\n",
       "            background-color:  #9dbdff;\n",
       "            color:  #000000;\n",
       "        }#T_e1133_row2_col7{\n",
       "            background-color:  #bad0f8;\n",
       "            color:  #000000;\n",
       "        }#T_e1133_row2_col8{\n",
       "            background-color:  #b6cefa;\n",
       "            color:  #000000;\n",
       "        }#T_e1133_row3_col1,#T_e1133_row6_col1,#T_e1133_row7_col1,#T_e1133_row8_col1{\n",
       "            background-color:  #5d7ce6;\n",
       "            color:  #000000;\n",
       "        }#T_e1133_row3_col4,#T_e1133_row7_col4{\n",
       "            background-color:  #ed8366;\n",
       "            color:  #000000;\n",
       "        }#T_e1133_row3_col5,#T_e1133_row7_col5{\n",
       "            background-color:  #f5c0a7;\n",
       "            color:  #000000;\n",
       "        }#T_e1133_row3_col6,#T_e1133_row7_col6{\n",
       "            background-color:  #e97a5f;\n",
       "            color:  #000000;\n",
       "        }#T_e1133_row3_col8,#T_e1133_row6_col3,#T_e1133_row6_col7,#T_e1133_row7_col8{\n",
       "            background-color:  #e9785d;\n",
       "            color:  #000000;\n",
       "        }#T_e1133_row3_col9,#T_e1133_row7_col9{\n",
       "            background-color:  #465ecf;\n",
       "            color:  #f1f1f1;\n",
       "        }#T_e1133_row4_col0,#T_e1133_row5_col9{\n",
       "            background-color:  #445acc;\n",
       "            color:  #f1f1f1;\n",
       "        }#T_e1133_row4_col1{\n",
       "            background-color:  #5a78e4;\n",
       "            color:  #000000;\n",
       "        }#T_e1133_row4_col2{\n",
       "            background-color:  #89acfd;\n",
       "            color:  #000000;\n",
       "        }#T_e1133_row4_col3,#T_e1133_row4_col7,#T_e1133_row6_col5{\n",
       "            background-color:  #ec8165;\n",
       "            color:  #000000;\n",
       "        }#T_e1133_row4_col5{\n",
       "            background-color:  #f6bda2;\n",
       "            color:  #000000;\n",
       "        }#T_e1133_row4_col6{\n",
       "            background-color:  #f7ad90;\n",
       "            color:  #000000;\n",
       "        }#T_e1133_row4_col8,#T_e1133_row8_col4{\n",
       "            background-color:  #f7b093;\n",
       "            color:  #000000;\n",
       "        }#T_e1133_row5_col0{\n",
       "            background-color:  #5977e3;\n",
       "            color:  #000000;\n",
       "        }#T_e1133_row5_col2,#T_e1133_row9_col8{\n",
       "            background-color:  #84a7fc;\n",
       "            color:  #000000;\n",
       "        }#T_e1133_row5_col3,#T_e1133_row5_col4,#T_e1133_row5_col7{\n",
       "            background-color:  #f7b599;\n",
       "            color:  #000000;\n",
       "        }#T_e1133_row5_col6{\n",
       "            background-color:  #ea7b60;\n",
       "            color:  #000000;\n",
       "        }#T_e1133_row5_col8{\n",
       "            background-color:  #e36c55;\n",
       "            color:  #000000;\n",
       "        }#T_e1133_row6_col0{\n",
       "            background-color:  #4257c9;\n",
       "            color:  #f1f1f1;\n",
       "        }#T_e1133_row6_col2{\n",
       "            background-color:  #88abfd;\n",
       "            color:  #000000;\n",
       "        }#T_e1133_row6_col4{\n",
       "            background-color:  #f7af91;\n",
       "            color:  #000000;\n",
       "        }#T_e1133_row6_col8,#T_e1133_row8_col6{\n",
       "            background-color:  #be242e;\n",
       "            color:  #f1f1f1;\n",
       "        }#T_e1133_row6_col9{\n",
       "            background-color:  #3f53c6;\n",
       "            color:  #f1f1f1;\n",
       "        }#T_e1133_row8_col0{\n",
       "            background-color:  #455cce;\n",
       "            color:  #f1f1f1;\n",
       "        }#T_e1133_row8_col2{\n",
       "            background-color:  #90b2fe;\n",
       "            color:  #000000;\n",
       "        }#T_e1133_row8_col3{\n",
       "            background-color:  #e7745b;\n",
       "            color:  #000000;\n",
       "        }#T_e1133_row8_col5{\n",
       "            background-color:  #e67259;\n",
       "            color:  #000000;\n",
       "        }#T_e1133_row8_col7{\n",
       "            background-color:  #e8765c;\n",
       "            color:  #000000;\n",
       "        }#T_e1133_row9_col0{\n",
       "            background-color:  #aac7fd;\n",
       "            color:  #000000;\n",
       "        }#T_e1133_row9_col1{\n",
       "            background-color:  #5572df;\n",
       "            color:  #000000;\n",
       "        }#T_e1133_row9_col2{\n",
       "            background-color:  #4f69d9;\n",
       "            color:  #000000;\n",
       "        }#T_e1133_row9_col3,#T_e1133_row9_col7{\n",
       "            background-color:  #93b5fe;\n",
       "            color:  #000000;\n",
       "        }#T_e1133_row9_col4{\n",
       "            background-color:  #a1c0ff;\n",
       "            color:  #000000;\n",
       "        }#T_e1133_row9_col5{\n",
       "            background-color:  #7396f5;\n",
       "            color:  #000000;\n",
       "        }#T_e1133_row9_col6{\n",
       "            background-color:  #85a8fc;\n",
       "            color:  #000000;\n",
       "        }</style><table id=\"T_e1133_\" ><thead>    <tr>        <th class=\"blank level0\" ></th>        <th class=\"col_heading level0 col0\" >Rank</th>        <th class=\"col_heading level0 col1\" >Month</th>        <th class=\"col_heading level0 col2\" >Year</th>        <th class=\"col_heading level0 col3\" >Hours_watched</th>        <th class=\"col_heading level0 col4\" >Peak_viewers</th>        <th class=\"col_heading level0 col5\" >Peak_channels</th>        <th class=\"col_heading level0 col6\" >Streamers</th>        <th class=\"col_heading level0 col7\" >Avg_viewers</th>        <th class=\"col_heading level0 col8\" >Avg_channels</th>        <th class=\"col_heading level0 col9\" >Avg_viewer_ratio</th>    </tr></thead><tbody>\n",
       "                <tr>\n",
       "                        <th id=\"T_e1133_level0_row0\" class=\"row_heading level0 row0\" >Rank</th>\n",
       "                        <td id=\"T_e1133_row0_col0\" class=\"data row0 col0\" >1.000</td>\n",
       "                        <td id=\"T_e1133_row0_col1\" class=\"data row0 col1\" >-0.003</td>\n",
       "                        <td id=\"T_e1133_row0_col2\" class=\"data row0 col2\" >-0.002</td>\n",
       "                        <td id=\"T_e1133_row0_col3\" class=\"data row0 col3\" >-0.390</td>\n",
       "                        <td id=\"T_e1133_row0_col4\" class=\"data row0 col4\" >-0.346</td>\n",
       "                        <td id=\"T_e1133_row0_col5\" class=\"data row0 col5\" >-0.251</td>\n",
       "                        <td id=\"T_e1133_row0_col6\" class=\"data row0 col6\" >-0.354</td>\n",
       "                        <td id=\"T_e1133_row0_col7\" class=\"data row0 col7\" >-0.390</td>\n",
       "                        <td id=\"T_e1133_row0_col8\" class=\"data row0 col8\" >-0.339</td>\n",
       "                        <td id=\"T_e1133_row0_col9\" class=\"data row0 col9\" >0.072</td>\n",
       "            </tr>\n",
       "            <tr>\n",
       "                        <th id=\"T_e1133_level0_row1\" class=\"row_heading level0 row1\" >Month</th>\n",
       "                        <td id=\"T_e1133_row1_col0\" class=\"data row1 col0\" >-0.003</td>\n",
       "                        <td id=\"T_e1133_row1_col1\" class=\"data row1 col1\" >1.000</td>\n",
       "                        <td id=\"T_e1133_row1_col2\" class=\"data row1 col2\" >-0.139</td>\n",
       "                        <td id=\"T_e1133_row1_col3\" class=\"data row1 col3\" >-0.011</td>\n",
       "                        <td id=\"T_e1133_row1_col4\" class=\"data row1 col4\" >-0.020</td>\n",
       "                        <td id=\"T_e1133_row1_col5\" class=\"data row1 col5\" >0.005</td>\n",
       "                        <td id=\"T_e1133_row1_col6\" class=\"data row1 col6\" >-0.012</td>\n",
       "                        <td id=\"T_e1133_row1_col7\" class=\"data row1 col7\" >-0.013</td>\n",
       "                        <td id=\"T_e1133_row1_col8\" class=\"data row1 col8\" >-0.013</td>\n",
       "                        <td id=\"T_e1133_row1_col9\" class=\"data row1 col9\" >-0.037</td>\n",
       "            </tr>\n",
       "            <tr>\n",
       "                        <th id=\"T_e1133_level0_row2\" class=\"row_heading level0 row2\" >Year</th>\n",
       "                        <td id=\"T_e1133_row2_col0\" class=\"data row2 col0\" >-0.002</td>\n",
       "                        <td id=\"T_e1133_row2_col1\" class=\"data row2 col1\" >-0.139</td>\n",
       "                        <td id=\"T_e1133_row2_col2\" class=\"data row2 col2\" >1.000</td>\n",
       "                        <td id=\"T_e1133_row2_col3\" class=\"data row2 col3\" >0.137</td>\n",
       "                        <td id=\"T_e1133_row2_col4\" class=\"data row2 col4\" >0.136</td>\n",
       "                        <td id=\"T_e1133_row2_col5\" class=\"data row2 col5\" >0.117</td>\n",
       "                        <td id=\"T_e1133_row2_col6\" class=\"data row2 col6\" >0.132</td>\n",
       "                        <td id=\"T_e1133_row2_col7\" class=\"data row2 col7\" >0.137</td>\n",
       "                        <td id=\"T_e1133_row2_col8\" class=\"data row2 col8\" >0.155</td>\n",
       "                        <td id=\"T_e1133_row2_col9\" class=\"data row2 col9\" >-0.062</td>\n",
       "            </tr>\n",
       "            <tr>\n",
       "                        <th id=\"T_e1133_level0_row3\" class=\"row_heading level0 row3\" >Hours_watched</th>\n",
       "                        <td id=\"T_e1133_row3_col0\" class=\"data row3 col0\" >-0.390</td>\n",
       "                        <td id=\"T_e1133_row3_col1\" class=\"data row3 col1\" >-0.011</td>\n",
       "                        <td id=\"T_e1133_row3_col2\" class=\"data row3 col2\" >0.137</td>\n",
       "                        <td id=\"T_e1133_row3_col3\" class=\"data row3 col3\" >1.000</td>\n",
       "                        <td id=\"T_e1133_row3_col4\" class=\"data row3 col4\" >0.734</td>\n",
       "                        <td id=\"T_e1133_row3_col5\" class=\"data row3 col5\" >0.547</td>\n",
       "                        <td id=\"T_e1133_row3_col6\" class=\"data row3 col6\" >0.758</td>\n",
       "                        <td id=\"T_e1133_row3_col7\" class=\"data row3 col7\" >1.000</td>\n",
       "                        <td id=\"T_e1133_row3_col8\" class=\"data row3 col8\" >0.767</td>\n",
       "                        <td id=\"T_e1133_row3_col9\" class=\"data row3 col9\" >-0.019</td>\n",
       "            </tr>\n",
       "            <tr>\n",
       "                        <th id=\"T_e1133_level0_row4\" class=\"row_heading level0 row4\" >Peak_viewers</th>\n",
       "                        <td id=\"T_e1133_row4_col0\" class=\"data row4 col0\" >-0.346</td>\n",
       "                        <td id=\"T_e1133_row4_col1\" class=\"data row4 col1\" >-0.020</td>\n",
       "                        <td id=\"T_e1133_row4_col2\" class=\"data row4 col2\" >0.136</td>\n",
       "                        <td id=\"T_e1133_row4_col3\" class=\"data row4 col3\" >0.734</td>\n",
       "                        <td id=\"T_e1133_row4_col4\" class=\"data row4 col4\" >1.000</td>\n",
       "                        <td id=\"T_e1133_row4_col5\" class=\"data row4 col5\" >0.560</td>\n",
       "                        <td id=\"T_e1133_row4_col6\" class=\"data row4 col6\" >0.588</td>\n",
       "                        <td id=\"T_e1133_row4_col7\" class=\"data row4 col7\" >0.732</td>\n",
       "                        <td id=\"T_e1133_row4_col8\" class=\"data row4 col8\" >0.582</td>\n",
       "                        <td id=\"T_e1133_row4_col9\" class=\"data row4 col9\" >0.066</td>\n",
       "            </tr>\n",
       "            <tr>\n",
       "                        <th id=\"T_e1133_level0_row5\" class=\"row_heading level0 row5\" >Peak_channels</th>\n",
       "                        <td id=\"T_e1133_row5_col0\" class=\"data row5 col0\" >-0.251</td>\n",
       "                        <td id=\"T_e1133_row5_col1\" class=\"data row5 col1\" >0.005</td>\n",
       "                        <td id=\"T_e1133_row5_col2\" class=\"data row5 col2\" >0.117</td>\n",
       "                        <td id=\"T_e1133_row5_col3\" class=\"data row5 col3\" >0.547</td>\n",
       "                        <td id=\"T_e1133_row5_col4\" class=\"data row5 col4\" >0.560</td>\n",
       "                        <td id=\"T_e1133_row5_col5\" class=\"data row5 col5\" >1.000</td>\n",
       "                        <td id=\"T_e1133_row5_col6\" class=\"data row5 col6\" >0.756</td>\n",
       "                        <td id=\"T_e1133_row5_col7\" class=\"data row5 col7\" >0.547</td>\n",
       "                        <td id=\"T_e1133_row5_col8\" class=\"data row5 col8\" >0.798</td>\n",
       "                        <td id=\"T_e1133_row5_col9\" class=\"data row5 col9\" >-0.028</td>\n",
       "            </tr>\n",
       "            <tr>\n",
       "                        <th id=\"T_e1133_level0_row6\" class=\"row_heading level0 row6\" >Streamers</th>\n",
       "                        <td id=\"T_e1133_row6_col0\" class=\"data row6 col0\" >-0.354</td>\n",
       "                        <td id=\"T_e1133_row6_col1\" class=\"data row6 col1\" >-0.012</td>\n",
       "                        <td id=\"T_e1133_row6_col2\" class=\"data row6 col2\" >0.132</td>\n",
       "                        <td id=\"T_e1133_row6_col3\" class=\"data row6 col3\" >0.758</td>\n",
       "                        <td id=\"T_e1133_row6_col4\" class=\"data row6 col4\" >0.588</td>\n",
       "                        <td id=\"T_e1133_row6_col5\" class=\"data row6 col5\" >0.756</td>\n",
       "                        <td id=\"T_e1133_row6_col6\" class=\"data row6 col6\" >1.000</td>\n",
       "                        <td id=\"T_e1133_row6_col7\" class=\"data row6 col7\" >0.757</td>\n",
       "                        <td id=\"T_e1133_row6_col8\" class=\"data row6 col8\" >0.962</td>\n",
       "                        <td id=\"T_e1133_row6_col9\" class=\"data row6 col9\" >-0.043</td>\n",
       "            </tr>\n",
       "            <tr>\n",
       "                        <th id=\"T_e1133_level0_row7\" class=\"row_heading level0 row7\" >Avg_viewers</th>\n",
       "                        <td id=\"T_e1133_row7_col0\" class=\"data row7 col0\" >-0.390</td>\n",
       "                        <td id=\"T_e1133_row7_col1\" class=\"data row7 col1\" >-0.013</td>\n",
       "                        <td id=\"T_e1133_row7_col2\" class=\"data row7 col2\" >0.137</td>\n",
       "                        <td id=\"T_e1133_row7_col3\" class=\"data row7 col3\" >1.000</td>\n",
       "                        <td id=\"T_e1133_row7_col4\" class=\"data row7 col4\" >0.732</td>\n",
       "                        <td id=\"T_e1133_row7_col5\" class=\"data row7 col5\" >0.547</td>\n",
       "                        <td id=\"T_e1133_row7_col6\" class=\"data row7 col6\" >0.757</td>\n",
       "                        <td id=\"T_e1133_row7_col7\" class=\"data row7 col7\" >1.000</td>\n",
       "                        <td id=\"T_e1133_row7_col8\" class=\"data row7 col8\" >0.766</td>\n",
       "                        <td id=\"T_e1133_row7_col9\" class=\"data row7 col9\" >-0.019</td>\n",
       "            </tr>\n",
       "            <tr>\n",
       "                        <th id=\"T_e1133_level0_row8\" class=\"row_heading level0 row8\" >Avg_channels</th>\n",
       "                        <td id=\"T_e1133_row8_col0\" class=\"data row8 col0\" >-0.339</td>\n",
       "                        <td id=\"T_e1133_row8_col1\" class=\"data row8 col1\" >-0.013</td>\n",
       "                        <td id=\"T_e1133_row8_col2\" class=\"data row8 col2\" >0.155</td>\n",
       "                        <td id=\"T_e1133_row8_col3\" class=\"data row8 col3\" >0.767</td>\n",
       "                        <td id=\"T_e1133_row8_col4\" class=\"data row8 col4\" >0.582</td>\n",
       "                        <td id=\"T_e1133_row8_col5\" class=\"data row8 col5\" >0.798</td>\n",
       "                        <td id=\"T_e1133_row8_col6\" class=\"data row8 col6\" >0.962</td>\n",
       "                        <td id=\"T_e1133_row8_col7\" class=\"data row8 col7\" >0.766</td>\n",
       "                        <td id=\"T_e1133_row8_col8\" class=\"data row8 col8\" >1.000</td>\n",
       "                        <td id=\"T_e1133_row8_col9\" class=\"data row8 col9\" >-0.039</td>\n",
       "            </tr>\n",
       "            <tr>\n",
       "                        <th id=\"T_e1133_level0_row9\" class=\"row_heading level0 row9\" >Avg_viewer_ratio</th>\n",
       "                        <td id=\"T_e1133_row9_col0\" class=\"data row9 col0\" >0.072</td>\n",
       "                        <td id=\"T_e1133_row9_col1\" class=\"data row9 col1\" >-0.037</td>\n",
       "                        <td id=\"T_e1133_row9_col2\" class=\"data row9 col2\" >-0.062</td>\n",
       "                        <td id=\"T_e1133_row9_col3\" class=\"data row9 col3\" >-0.019</td>\n",
       "                        <td id=\"T_e1133_row9_col4\" class=\"data row9 col4\" >0.066</td>\n",
       "                        <td id=\"T_e1133_row9_col5\" class=\"data row9 col5\" >-0.028</td>\n",
       "                        <td id=\"T_e1133_row9_col6\" class=\"data row9 col6\" >-0.043</td>\n",
       "                        <td id=\"T_e1133_row9_col7\" class=\"data row9 col7\" >-0.019</td>\n",
       "                        <td id=\"T_e1133_row9_col8\" class=\"data row9 col8\" >-0.039</td>\n",
       "                        <td id=\"T_e1133_row9_col9\" class=\"data row9 col9\" >1.000</td>\n",
       "            </tr>\n",
       "    </tbody></table>"
      ],
      "text/plain": [
       "<pandas.io.formats.style.Styler at 0x7f223ac27ca0>"
      ]
     },
     "execution_count": 98,
     "metadata": {},
     "output_type": "execute_result"
    }
   ],
   "source": [
    "twitch_corr = df_twitch.corr()\n",
    "twitch_corr.style.background_gradient(cmap='coolwarm').set_precision(3)"
   ]
  },
  {
   "cell_type": "code",
   "execution_count": 121,
   "id": "79820d49-12be-4ffc-9b93-5c7c69834600",
   "metadata": {},
   "outputs": [
    {
     "data": {
      "text/html": [
       "<div>\n",
       "<style scoped>\n",
       "    .dataframe tbody tr th:only-of-type {\n",
       "        vertical-align: middle;\n",
       "    }\n",
       "\n",
       "    .dataframe tbody tr th {\n",
       "        vertical-align: top;\n",
       "    }\n",
       "\n",
       "    .dataframe thead th {\n",
       "        text-align: right;\n",
       "    }\n",
       "</style>\n",
       "<table border=\"1\" class=\"dataframe\">\n",
       "  <thead>\n",
       "    <tr style=\"text-align: right;\">\n",
       "      <th></th>\n",
       "      <th>gamename</th>\n",
       "      <th>year</th>\n",
       "      <th>month</th>\n",
       "      <th>avg</th>\n",
       "      <th>gain</th>\n",
       "      <th>peak</th>\n",
       "      <th>avg_peak_perc</th>\n",
       "      <th>Rank</th>\n",
       "      <th>Game</th>\n",
       "      <th>Month</th>\n",
       "      <th>Year</th>\n",
       "      <th>Hours_watched</th>\n",
       "      <th>Hours_Streamed</th>\n",
       "      <th>Peak_viewers</th>\n",
       "      <th>Peak_channels</th>\n",
       "      <th>Streamers</th>\n",
       "      <th>Avg_viewers</th>\n",
       "      <th>Avg_channels</th>\n",
       "      <th>Avg_viewer_ratio</th>\n",
       "    </tr>\n",
       "  </thead>\n",
       "  <tbody>\n",
       "    <tr>\n",
       "      <th>0</th>\n",
       "      <td>Counter-Strike: Global Offensive</td>\n",
       "      <td>2021</td>\n",
       "      <td>February</td>\n",
       "      <td>741013.24</td>\n",
       "      <td>-2196.42</td>\n",
       "      <td>1123485</td>\n",
       "      <td>65.9567%</td>\n",
       "      <td>9.0</td>\n",
       "      <td>Counter-Strike: Global Offensive</td>\n",
       "      <td>1.0</td>\n",
       "      <td>2021.0</td>\n",
       "      <td>60899705.0</td>\n",
       "      <td>1669538 hours</td>\n",
       "      <td>592921.0</td>\n",
       "      <td>4598.0</td>\n",
       "      <td>178120.0</td>\n",
       "      <td>81964.0</td>\n",
       "      <td>2247.0</td>\n",
       "      <td>36.48</td>\n",
       "    </tr>\n",
       "    <tr>\n",
       "      <th>1</th>\n",
       "      <td>Counter-Strike: Global Offensive</td>\n",
       "      <td>2021</td>\n",
       "      <td>February</td>\n",
       "      <td>741013.24</td>\n",
       "      <td>-2196.42</td>\n",
       "      <td>1123485</td>\n",
       "      <td>65.9567%</td>\n",
       "      <td>8.0</td>\n",
       "      <td>Counter-Strike: Global Offensive</td>\n",
       "      <td>2.0</td>\n",
       "      <td>2021.0</td>\n",
       "      <td>67578481.0</td>\n",
       "      <td>1507029 hours</td>\n",
       "      <td>607485.0</td>\n",
       "      <td>4460.0</td>\n",
       "      <td>161814.0</td>\n",
       "      <td>100713.0</td>\n",
       "      <td>2245.0</td>\n",
       "      <td>44.84</td>\n",
       "    </tr>\n",
       "    <tr>\n",
       "      <th>2</th>\n",
       "      <td>Counter-Strike: Global Offensive</td>\n",
       "      <td>2021</td>\n",
       "      <td>February</td>\n",
       "      <td>741013.24</td>\n",
       "      <td>-2196.42</td>\n",
       "      <td>1123485</td>\n",
       "      <td>65.9567%</td>\n",
       "      <td>8.0</td>\n",
       "      <td>Counter-Strike: Global Offensive</td>\n",
       "      <td>3.0</td>\n",
       "      <td>2021.0</td>\n",
       "      <td>72375036.0</td>\n",
       "      <td>1626300 hours</td>\n",
       "      <td>454393.0</td>\n",
       "      <td>4379.0</td>\n",
       "      <td>170319.0</td>\n",
       "      <td>97409.0</td>\n",
       "      <td>2188.0</td>\n",
       "      <td>44.50</td>\n",
       "    </tr>\n",
       "    <tr>\n",
       "      <th>3</th>\n",
       "      <td>Counter-Strike: Global Offensive</td>\n",
       "      <td>2021</td>\n",
       "      <td>February</td>\n",
       "      <td>741013.24</td>\n",
       "      <td>-2196.42</td>\n",
       "      <td>1123485</td>\n",
       "      <td>65.9567%</td>\n",
       "      <td>8.0</td>\n",
       "      <td>Counter-Strike: Global Offensive</td>\n",
       "      <td>4.0</td>\n",
       "      <td>2021.0</td>\n",
       "      <td>70072819.0</td>\n",
       "      <td>1464933 hours</td>\n",
       "      <td>421485.0</td>\n",
       "      <td>4173.0</td>\n",
       "      <td>158206.0</td>\n",
       "      <td>97458.0</td>\n",
       "      <td>2037.0</td>\n",
       "      <td>47.83</td>\n",
       "    </tr>\n",
       "    <tr>\n",
       "      <th>4</th>\n",
       "      <td>Counter-Strike: Global Offensive</td>\n",
       "      <td>2021</td>\n",
       "      <td>January</td>\n",
       "      <td>743209.66</td>\n",
       "      <td>25405.91</td>\n",
       "      <td>1124553</td>\n",
       "      <td>66.0893%</td>\n",
       "      <td>9.0</td>\n",
       "      <td>Counter-Strike: Global Offensive</td>\n",
       "      <td>1.0</td>\n",
       "      <td>2021.0</td>\n",
       "      <td>60899705.0</td>\n",
       "      <td>1669538 hours</td>\n",
       "      <td>592921.0</td>\n",
       "      <td>4598.0</td>\n",
       "      <td>178120.0</td>\n",
       "      <td>81964.0</td>\n",
       "      <td>2247.0</td>\n",
       "      <td>36.48</td>\n",
       "    </tr>\n",
       "  </tbody>\n",
       "</table>\n",
       "</div>"
      ],
      "text/plain": [
       "                           gamename  year      month        avg      gain  \\\n",
       "0  Counter-Strike: Global Offensive  2021  February   741013.24  -2196.42   \n",
       "1  Counter-Strike: Global Offensive  2021  February   741013.24  -2196.42   \n",
       "2  Counter-Strike: Global Offensive  2021  February   741013.24  -2196.42   \n",
       "3  Counter-Strike: Global Offensive  2021  February   741013.24  -2196.42   \n",
       "4  Counter-Strike: Global Offensive  2021   January   743209.66  25405.91   \n",
       "\n",
       "      peak avg_peak_perc  Rank                              Game  Month  \\\n",
       "0  1123485      65.9567%   9.0  Counter-Strike: Global Offensive    1.0   \n",
       "1  1123485      65.9567%   8.0  Counter-Strike: Global Offensive    2.0   \n",
       "2  1123485      65.9567%   8.0  Counter-Strike: Global Offensive    3.0   \n",
       "3  1123485      65.9567%   8.0  Counter-Strike: Global Offensive    4.0   \n",
       "4  1124553      66.0893%   9.0  Counter-Strike: Global Offensive    1.0   \n",
       "\n",
       "     Year  Hours_watched Hours_Streamed  Peak_viewers  Peak_channels  \\\n",
       "0  2021.0     60899705.0  1669538 hours      592921.0         4598.0   \n",
       "1  2021.0     67578481.0  1507029 hours      607485.0         4460.0   \n",
       "2  2021.0     72375036.0  1626300 hours      454393.0         4379.0   \n",
       "3  2021.0     70072819.0  1464933 hours      421485.0         4173.0   \n",
       "4  2021.0     60899705.0  1669538 hours      592921.0         4598.0   \n",
       "\n",
       "   Streamers  Avg_viewers  Avg_channels  Avg_viewer_ratio  \n",
       "0   178120.0      81964.0        2247.0             36.48  \n",
       "1   161814.0     100713.0        2245.0             44.84  \n",
       "2   170319.0      97409.0        2188.0             44.50  \n",
       "3   158206.0      97458.0        2037.0             47.83  \n",
       "4   178120.0      81964.0        2247.0             36.48  "
      ]
     },
     "execution_count": 121,
     "metadata": {},
     "output_type": "execute_result"
    }
   ],
   "source": [
    "df_total = pd.merge(df_steam, df_twitch, how='left', left_on=['gamename','year'], right_on=['Game', 'Year'])\n",
    "df_total.head()"
   ]
  },
  {
   "cell_type": "code",
   "execution_count": 111,
   "id": "ea0c2a69-a76f-4386-a953-e65e92e06276",
   "metadata": {},
   "outputs": [
    {
     "data": {
      "text/plain": [
       "376560"
      ]
     },
     "execution_count": 111,
     "metadata": {},
     "output_type": "execute_result"
    }
   ],
   "source": [
    "df_total['gamename'].count()"
   ]
  },
  {
   "cell_type": "code",
   "execution_count": 112,
   "id": "faf168cd-d671-4bb8-9ea2-cc77884a33f8",
   "metadata": {},
   "outputs": [
    {
     "data": {
      "text/plain": [
       "gamename                0\n",
       "year                    0\n",
       "month                   0\n",
       "avg                     0\n",
       "gain                 5799\n",
       "peak                    0\n",
       "avg_peak_perc           0\n",
       "Rank                59072\n",
       "Game                59072\n",
       "Month               59072\n",
       "Year                59072\n",
       "Hours_watched       59072\n",
       "Hours_Streamed      59072\n",
       "Peak_viewers        59072\n",
       "Peak_channels       59072\n",
       "Streamers           59072\n",
       "Avg_viewers         59072\n",
       "Avg_channels        59072\n",
       "Avg_viewer_ratio    59072\n",
       "dtype: int64"
      ]
     },
     "execution_count": 112,
     "metadata": {},
     "output_type": "execute_result"
    }
   ],
   "source": [
    "df_total.isnull().sum(axis = 0)"
   ]
  }
 ],
 "metadata": {
  "kernelspec": {
   "display_name": "Python 3",
   "language": "python",
   "name": "python3"
  },
  "language_info": {
   "codemirror_mode": {
    "name": "ipython",
    "version": 3
   },
   "file_extension": ".py",
   "mimetype": "text/x-python",
   "name": "python",
   "nbconvert_exporter": "python",
   "pygments_lexer": "ipython3",
   "version": "3.9.4"
  }
 },
 "nbformat": 4,
 "nbformat_minor": 5
}
