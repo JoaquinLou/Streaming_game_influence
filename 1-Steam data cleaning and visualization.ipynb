{
 "cells": [
  {
   "cell_type": "markdown",
   "id": "b4ba0a00-7d35-4474-8a76-d79d143abbe6",
   "metadata": {},
   "source": [
    "# Steam Data"
   ]
  },
  {
   "cell_type": "code",
   "execution_count": 1,
   "id": "7fa2e300-2942-409c-8e3c-558a5c13e33b",
   "metadata": {},
   "outputs": [],
   "source": [
    "import seaborn as sns\n",
    "import pandas as pd\n",
    "import numpy as np\n",
    "import matplotlib.pyplot as plt\n",
    "import datetime as dt\n",
    "from sklearn.linear_model import LinearRegression\n",
    "import missingno as msno"
   ]
  },
  {
   "cell_type": "code",
   "execution_count": 2,
   "id": "8456678a-d0d8-4161-bcf4-dc7cffbf00be",
   "metadata": {},
   "outputs": [],
   "source": [
    "df_steam = pd.read_csv('Popularity_games_Steam_Charts.csv', encoding='latin-1')"
   ]
  },
  {
   "cell_type": "code",
   "execution_count": 40,
   "id": "e1cca54f-b17f-43e6-9f60-b048fc70e4ab",
   "metadata": {},
   "outputs": [
    {
     "name": "stdout",
     "output_type": "stream",
     "text": [
      "<class 'pandas.core.frame.DataFrame'>\n",
      "RangeIndex: 83789 entries, 0 to 83788\n",
      "Data columns (total 7 columns):\n",
      " #   Column         Non-Null Count  Dtype  \n",
      "---  ------         --------------  -----  \n",
      " 0   gamename       83789 non-null  object \n",
      " 1   year           83789 non-null  int64  \n",
      " 2   month          83789 non-null  object \n",
      " 3   avg            83789 non-null  float64\n",
      " 4   gain           82529 non-null  float64\n",
      " 5   peak           83789 non-null  int64  \n",
      " 6   avg_peak_perc  83789 non-null  object \n",
      "dtypes: float64(2), int64(2), object(3)\n",
      "memory usage: 4.5+ MB\n"
     ]
    }
   ],
   "source": [
    "df_steam.info()"
   ]
  },
  {
   "cell_type": "code",
   "execution_count": 10,
   "id": "f510def5-68e1-4df2-b4c6-26d280235632",
   "metadata": {},
   "outputs": [
    {
     "data": {
      "text/plain": [
       "(83789, 7)"
      ]
     },
     "execution_count": 10,
     "metadata": {},
     "output_type": "execute_result"
    }
   ],
   "source": [
    "df_steam.shape"
   ]
  },
  {
   "cell_type": "code",
   "execution_count": 11,
   "id": "df76634b-379f-44d9-a39a-d5c4e01733a1",
   "metadata": {},
   "outputs": [
    {
     "data": {
      "text/html": [
       "<div>\n",
       "<style scoped>\n",
       "    .dataframe tbody tr th:only-of-type {\n",
       "        vertical-align: middle;\n",
       "    }\n",
       "\n",
       "    .dataframe tbody tr th {\n",
       "        vertical-align: top;\n",
       "    }\n",
       "\n",
       "    .dataframe thead th {\n",
       "        text-align: right;\n",
       "    }\n",
       "</style>\n",
       "<table border=\"1\" class=\"dataframe\">\n",
       "  <thead>\n",
       "    <tr style=\"text-align: right;\">\n",
       "      <th></th>\n",
       "      <th>gamename</th>\n",
       "      <th>year</th>\n",
       "      <th>month</th>\n",
       "      <th>avg</th>\n",
       "      <th>gain</th>\n",
       "      <th>peak</th>\n",
       "      <th>avg_peak_perc</th>\n",
       "    </tr>\n",
       "  </thead>\n",
       "  <tbody>\n",
       "    <tr>\n",
       "      <th>0</th>\n",
       "      <td>Counter-Strike: Global Offensive</td>\n",
       "      <td>2021</td>\n",
       "      <td>February</td>\n",
       "      <td>741013.24</td>\n",
       "      <td>-2196.42</td>\n",
       "      <td>1123485</td>\n",
       "      <td>65.9567%</td>\n",
       "    </tr>\n",
       "    <tr>\n",
       "      <th>1</th>\n",
       "      <td>Counter-Strike: Global Offensive</td>\n",
       "      <td>2021</td>\n",
       "      <td>January</td>\n",
       "      <td>743209.66</td>\n",
       "      <td>25405.91</td>\n",
       "      <td>1124553</td>\n",
       "      <td>66.0893%</td>\n",
       "    </tr>\n",
       "    <tr>\n",
       "      <th>2</th>\n",
       "      <td>Counter-Strike: Global Offensive</td>\n",
       "      <td>2020</td>\n",
       "      <td>December</td>\n",
       "      <td>717803.75</td>\n",
       "      <td>49049.17</td>\n",
       "      <td>1164396</td>\n",
       "      <td>61.646%</td>\n",
       "    </tr>\n",
       "    <tr>\n",
       "      <th>3</th>\n",
       "      <td>Counter-Strike: Global Offensive</td>\n",
       "      <td>2020</td>\n",
       "      <td>November</td>\n",
       "      <td>668754.58</td>\n",
       "      <td>55087.89</td>\n",
       "      <td>1037464</td>\n",
       "      <td>64.4605%</td>\n",
       "    </tr>\n",
       "    <tr>\n",
       "      <th>4</th>\n",
       "      <td>Counter-Strike: Global Offensive</td>\n",
       "      <td>2020</td>\n",
       "      <td>October</td>\n",
       "      <td>613666.69</td>\n",
       "      <td>6816.37</td>\n",
       "      <td>943876</td>\n",
       "      <td>65.0156%</td>\n",
       "    </tr>\n",
       "  </tbody>\n",
       "</table>\n",
       "</div>"
      ],
      "text/plain": [
       "                           gamename  year      month        avg      gain  \\\n",
       "0  Counter-Strike: Global Offensive  2021  February   741013.24  -2196.42   \n",
       "1  Counter-Strike: Global Offensive  2021   January   743209.66  25405.91   \n",
       "2  Counter-Strike: Global Offensive  2020  December   717803.75  49049.17   \n",
       "3  Counter-Strike: Global Offensive  2020  November   668754.58  55087.89   \n",
       "4  Counter-Strike: Global Offensive  2020   October   613666.69   6816.37   \n",
       "\n",
       "      peak avg_peak_perc  \n",
       "0  1123485      65.9567%  \n",
       "1  1124553      66.0893%  \n",
       "2  1164396       61.646%  \n",
       "3  1037464      64.4605%  \n",
       "4   943876      65.0156%  "
      ]
     },
     "execution_count": 11,
     "metadata": {},
     "output_type": "execute_result"
    }
   ],
   "source": [
    "df_steam.head()"
   ]
  },
  {
   "cell_type": "code",
   "execution_count": 7,
   "id": "92dac0e9-8792-43b0-9c02-bcec5246a704",
   "metadata": {},
   "outputs": [
    {
     "data": {
      "text/html": [
       "<div>\n",
       "<style scoped>\n",
       "    .dataframe tbody tr th:only-of-type {\n",
       "        vertical-align: middle;\n",
       "    }\n",
       "\n",
       "    .dataframe tbody tr th {\n",
       "        vertical-align: top;\n",
       "    }\n",
       "\n",
       "    .dataframe thead th {\n",
       "        text-align: right;\n",
       "    }\n",
       "</style>\n",
       "<table border=\"1\" class=\"dataframe\">\n",
       "  <thead>\n",
       "    <tr style=\"text-align: right;\">\n",
       "      <th></th>\n",
       "      <th>gamename</th>\n",
       "      <th>year</th>\n",
       "      <th>month</th>\n",
       "      <th>avg</th>\n",
       "      <th>gain</th>\n",
       "      <th>peak</th>\n",
       "      <th>avg_peak_perc</th>\n",
       "    </tr>\n",
       "  </thead>\n",
       "  <tbody>\n",
       "    <tr>\n",
       "      <th>83784</th>\n",
       "      <td>Steel Division: Normandy 44</td>\n",
       "      <td>2017</td>\n",
       "      <td>July</td>\n",
       "      <td>421.60</td>\n",
       "      <td>-485.13</td>\n",
       "      <td>987</td>\n",
       "      <td>42.7153%</td>\n",
       "    </tr>\n",
       "    <tr>\n",
       "      <th>83785</th>\n",
       "      <td>Steel Division: Normandy 44</td>\n",
       "      <td>2017</td>\n",
       "      <td>June</td>\n",
       "      <td>906.74</td>\n",
       "      <td>-231.92</td>\n",
       "      <td>2584</td>\n",
       "      <td>35.0906%</td>\n",
       "    </tr>\n",
       "    <tr>\n",
       "      <th>83786</th>\n",
       "      <td>Steel Division: Normandy 44</td>\n",
       "      <td>2017</td>\n",
       "      <td>May</td>\n",
       "      <td>1138.66</td>\n",
       "      <td>415.61</td>\n",
       "      <td>4606</td>\n",
       "      <td>24.7212%</td>\n",
       "    </tr>\n",
       "    <tr>\n",
       "      <th>83787</th>\n",
       "      <td>Steel Division: Normandy 44</td>\n",
       "      <td>2017</td>\n",
       "      <td>April</td>\n",
       "      <td>723.05</td>\n",
       "      <td>720.21</td>\n",
       "      <td>1911</td>\n",
       "      <td>37.8362%</td>\n",
       "    </tr>\n",
       "    <tr>\n",
       "      <th>83788</th>\n",
       "      <td>Steel Division: Normandy 44</td>\n",
       "      <td>2017</td>\n",
       "      <td>March</td>\n",
       "      <td>2.84</td>\n",
       "      <td>NaN</td>\n",
       "      <td>14</td>\n",
       "      <td>20.2857%</td>\n",
       "    </tr>\n",
       "  </tbody>\n",
       "</table>\n",
       "</div>"
      ],
      "text/plain": [
       "                          gamename  year   month      avg    gain  peak  \\\n",
       "83784  Steel Division: Normandy 44  2017   July    421.60 -485.13   987   \n",
       "83785  Steel Division: Normandy 44  2017   June    906.74 -231.92  2584   \n",
       "83786  Steel Division: Normandy 44  2017    May   1138.66  415.61  4606   \n",
       "83787  Steel Division: Normandy 44  2017  April    723.05  720.21  1911   \n",
       "83788  Steel Division: Normandy 44  2017  March      2.84     NaN    14   \n",
       "\n",
       "      avg_peak_perc  \n",
       "83784      42.7153%  \n",
       "83785      35.0906%  \n",
       "83786      24.7212%  \n",
       "83787      37.8362%  \n",
       "83788      20.2857%  "
      ]
     },
     "execution_count": 7,
     "metadata": {},
     "output_type": "execute_result"
    }
   ],
   "source": [
    "df_steam.tail()"
   ]
  },
  {
   "cell_type": "code",
   "execution_count": 25,
   "id": "836ecb91-65fc-421e-839f-da07e3c2ee0a",
   "metadata": {},
   "outputs": [
    {
     "data": {
      "text/plain": [
       "<AxesSubplot:>"
      ]
     },
     "execution_count": 25,
     "metadata": {},
     "output_type": "execute_result"
    },
    {
     "data": {
      "image/png": "[encoded data removed]",
      "text/plain": [
       "<Figure size 1800x720 with 2 Axes>"
      ]
     },
     "metadata": {
      "needs_background": "light"
     },
     "output_type": "display_data"
    }
   ],
   "source": [
    "%matplotlib inline\n",
    "msno.matrix(df_steam.sample(1000))"
   ]
  },
  {
   "cell_type": "code",
   "execution_count": 38,
   "id": "f6c28a3c-fd6a-4078-aa8b-c3fe5c49629f",
   "metadata": {},
   "outputs": [
    {
     "data": {
      "text/plain": [
       "1.5"
      ]
     },
     "execution_count": 38,
     "metadata": {},
     "output_type": "execute_result"
    }
   ],
   "source": [
    "((df_steam['gain'].isna().sum()/len(df_steam))*100).round(2)"
   ]
  },
  {
   "cell_type": "code",
   "execution_count": 26,
   "id": "06f7241c-35f0-4d76-a895-156a73581483",
   "metadata": {},
   "outputs": [
    {
     "name": "stdout",
     "output_type": "stream",
     "text": [
      "Tenemos datos de 9 años\n"
     ]
    }
   ],
   "source": [
    "#Rango de años recogidos en el dataset\n",
    "year_data = max(df_steam['year'])-min(df_steam['year'])\n",
    "print(\"Tenemos datos de %d años\" % year_data)"
   ]
  },
  {
   "cell_type": "code",
   "execution_count": 27,
   "id": "527d42a4-672f-45ef-bb2f-312d85b1a8fc",
   "metadata": {},
   "outputs": [
    {
     "name": "stdout",
     "output_type": "stream",
     "text": [
      "Tenemos 1260 videojuegos diferentes en el dataset\n"
     ]
    }
   ],
   "source": [
    "# Cuantos videojuegos únicos tenemos\n",
    "unique_vg = df_steam['gamename'].nunique()\n",
    "print(\"Tenemos %d videojuegos diferentes en el dataset\" % unique_vg)"
   ]
  },
  {
   "cell_type": "code",
   "execution_count": 13,
   "id": "9fb78cdb-3eab-483d-9b77-74d116a6a6c6",
   "metadata": {},
   "outputs": [
    {
     "data": {
      "text/plain": [
       "array(['February ', 'January ', 'December ', 'November ', 'October ',\n",
       "       'September ', 'August ', 'July ', 'June ', 'May ', 'April ',\n",
       "       'March '], dtype=object)"
      ]
     },
     "execution_count": 13,
     "metadata": {},
     "output_type": "execute_result"
    }
   ],
   "source": [
    "# Exploramos las columnas y vemos que month contiene espacios\n",
    "df_steam['month'].unique()"
   ]
  },
  {
   "cell_type": "code",
   "execution_count": 14,
   "id": "60d40354-121f-4761-894e-162cb8496878",
   "metadata": {},
   "outputs": [
    {
     "data": {
      "text/plain": [
       "0        February\n",
       "1         January\n",
       "2        December\n",
       "3        November\n",
       "4         October\n",
       "           ...   \n",
       "83784        July\n",
       "83785        June\n",
       "83786         May\n",
       "83787       April\n",
       "83788       March\n",
       "Name: month, Length: 83789, dtype: object"
      ]
     },
     "execution_count": 14,
     "metadata": {},
     "output_type": "execute_result"
    }
   ],
   "source": [
    "# Procesamos los espacios en las columnas de meses.\n",
    "df_steam['month'] = df_steam['month'].str.strip()\n",
    "df_steam['month']"
   ]
  },
  {
   "cell_type": "code",
   "execution_count": 15,
   "id": "beb865a3-aff6-4e20-b095-1940f1c61f49",
   "metadata": {},
   "outputs": [
    {
     "data": {
      "text/plain": [
       "0       2021-02-01\n",
       "1       2021-01-01\n",
       "2       2020-12-01\n",
       "3       2020-11-01\n",
       "4       2020-10-01\n",
       "           ...    \n",
       "83784   2017-07-01\n",
       "83785   2017-06-01\n",
       "83786   2017-05-01\n",
       "83787   2017-04-01\n",
       "83788   2017-03-01\n",
       "Name: date, Length: 83789, dtype: datetime64[ns]"
      ]
     },
     "execution_count": 15,
     "metadata": {},
     "output_type": "execute_result"
    }
   ],
   "source": [
    "# Unificamos fechas para formatearlas en una columna de tipo date\n",
    "df_steam['date'] = pd.to_datetime(df_steam['month'] + df_steam['year'].astype(str), format='%B%Y')\n",
    "df_steam['date']"
   ]
  },
  {
   "cell_type": "code",
   "execution_count": 16,
   "id": "44436d0a-e43d-4f08-b316-ace8be76873b",
   "metadata": {},
   "outputs": [
    {
     "data": {
      "text/html": [
       "<div>\n",
       "<style scoped>\n",
       "    .dataframe tbody tr th:only-of-type {\n",
       "        vertical-align: middle;\n",
       "    }\n",
       "\n",
       "    .dataframe tbody tr th {\n",
       "        vertical-align: top;\n",
       "    }\n",
       "\n",
       "    .dataframe thead th {\n",
       "        text-align: right;\n",
       "    }\n",
       "</style>\n",
       "<table border=\"1\" class=\"dataframe\">\n",
       "  <thead>\n",
       "    <tr style=\"text-align: right;\">\n",
       "      <th></th>\n",
       "      <th>gamename</th>\n",
       "      <th>year</th>\n",
       "      <th>month</th>\n",
       "      <th>avg</th>\n",
       "      <th>gain</th>\n",
       "      <th>peak</th>\n",
       "      <th>avg_peak_perc</th>\n",
       "      <th>date</th>\n",
       "    </tr>\n",
       "  </thead>\n",
       "  <tbody>\n",
       "    <tr>\n",
       "      <th>0</th>\n",
       "      <td>Counter-Strike: Global Offensive</td>\n",
       "      <td>2021</td>\n",
       "      <td>February</td>\n",
       "      <td>741013.24</td>\n",
       "      <td>-2196.42</td>\n",
       "      <td>1123485</td>\n",
       "      <td>65.9567%</td>\n",
       "      <td>2021-02-01</td>\n",
       "    </tr>\n",
       "    <tr>\n",
       "      <th>1</th>\n",
       "      <td>Counter-Strike: Global Offensive</td>\n",
       "      <td>2021</td>\n",
       "      <td>January</td>\n",
       "      <td>743209.66</td>\n",
       "      <td>25405.91</td>\n",
       "      <td>1124553</td>\n",
       "      <td>66.0893%</td>\n",
       "      <td>2021-01-01</td>\n",
       "    </tr>\n",
       "    <tr>\n",
       "      <th>2</th>\n",
       "      <td>Counter-Strike: Global Offensive</td>\n",
       "      <td>2020</td>\n",
       "      <td>December</td>\n",
       "      <td>717803.75</td>\n",
       "      <td>49049.17</td>\n",
       "      <td>1164396</td>\n",
       "      <td>61.646%</td>\n",
       "      <td>2020-12-01</td>\n",
       "    </tr>\n",
       "    <tr>\n",
       "      <th>3</th>\n",
       "      <td>Counter-Strike: Global Offensive</td>\n",
       "      <td>2020</td>\n",
       "      <td>November</td>\n",
       "      <td>668754.58</td>\n",
       "      <td>55087.89</td>\n",
       "      <td>1037464</td>\n",
       "      <td>64.4605%</td>\n",
       "      <td>2020-11-01</td>\n",
       "    </tr>\n",
       "    <tr>\n",
       "      <th>4</th>\n",
       "      <td>Counter-Strike: Global Offensive</td>\n",
       "      <td>2020</td>\n",
       "      <td>October</td>\n",
       "      <td>613666.69</td>\n",
       "      <td>6816.37</td>\n",
       "      <td>943876</td>\n",
       "      <td>65.0156%</td>\n",
       "      <td>2020-10-01</td>\n",
       "    </tr>\n",
       "  </tbody>\n",
       "</table>\n",
       "</div>"
      ],
      "text/plain": [
       "                           gamename  year     month        avg      gain  \\\n",
       "0  Counter-Strike: Global Offensive  2021  February  741013.24  -2196.42   \n",
       "1  Counter-Strike: Global Offensive  2021   January  743209.66  25405.91   \n",
       "2  Counter-Strike: Global Offensive  2020  December  717803.75  49049.17   \n",
       "3  Counter-Strike: Global Offensive  2020  November  668754.58  55087.89   \n",
       "4  Counter-Strike: Global Offensive  2020   October  613666.69   6816.37   \n",
       "\n",
       "      peak avg_peak_perc       date  \n",
       "0  1123485      65.9567% 2021-02-01  \n",
       "1  1124553      66.0893% 2021-01-01  \n",
       "2  1164396       61.646% 2020-12-01  \n",
       "3  1037464      64.4605% 2020-11-01  \n",
       "4   943876      65.0156% 2020-10-01  "
      ]
     },
     "execution_count": 16,
     "metadata": {},
     "output_type": "execute_result"
    }
   ],
   "source": [
    "df_steam.head()"
   ]
  },
  {
   "cell_type": "code",
   "execution_count": 32,
   "id": "3f722edc-319c-46cd-b5f7-97a4016e2505",
   "metadata": {},
   "outputs": [
    {
     "data": {
      "image/png": "[encoded data removed]",
      "text/plain": [
       "<Figure size 1440x720 with 1 Axes>"
      ]
     },
     "metadata": {
      "needs_background": "light"
     },
     "output_type": "display_data"
    }
   ],
   "source": [
    "#Evolución del número de jugadores medio en la plataforma steam\n",
    "df_steam_year = df_steam.groupby(['date'])['avg'].sum().plot(figsize=(20,10))\n",
    "plt.title(\"Average players by month\")\n",
    "plt.xlabel(\"Time\")\n",
    "plt.ylabel(\"Average players\");"
   ]
  },
  {
   "cell_type": "markdown",
   "id": "a39afb57-8c13-43b6-8600-2ba72a4afa8f",
   "metadata": {},
   "source": [
    "### Top 10 juegos más jugados en Steam en los últimos 10 años"
   ]
  },
  {
   "cell_type": "code",
   "execution_count": 3,
   "id": "4dfc71f5-1a2d-4818-9b62-7d9ca7521e0a",
   "metadata": {},
   "outputs": [],
   "source": [
    "df_steam_games = df_steam.groupby(['gamename'])['avg'].sum().reset_index()"
   ]
  },
  {
   "cell_type": "code",
   "execution_count": 4,
   "id": "a27b4464-9e3b-4cb6-b9cd-4cbaad398078",
   "metadata": {},
   "outputs": [
    {
     "data": {
      "image/png": "[encoded data removed]",
      "text/plain": [
       "<Figure size 432x288 with 1 Axes>"
      ]
     },
     "metadata": {
      "needs_background": "light"
     },
     "output_type": "display_data"
    }
   ],
   "source": [
    "df_steam_games.sort_values('avg', ascending=False).head(15).plot(kind='barh', y='avg', x='gamename')\n",
    "plt.xlabel(\"Average players at the same time\")\n",
    "plt.ylabel(\"Game\");"
   ]
  },
  {
   "cell_type": "markdown",
   "id": "182ca71e-d995-463f-8bc3-27fd6f96b4da",
   "metadata": {},
   "source": [
    "### Top 10 juegos más jugados en Steam en los últimos 2 años"
   ]
  },
  {
   "cell_type": "code",
   "execution_count": 18,
   "id": "b6f21a1a-15d0-4443-a66d-dd3291b01a94",
   "metadata": {},
   "outputs": [],
   "source": [
    "df_top_games_covid = df_steam.loc[(df_steam['year'].isin([2020, 2021]))]"
   ]
  },
  {
   "cell_type": "code",
   "execution_count": 19,
   "id": "c7fa5f29-a651-4f46-810f-d2bda166b7ad",
   "metadata": {},
   "outputs": [
    {
     "data": {
      "text/html": [
       "<div>\n",
       "<style scoped>\n",
       "    .dataframe tbody tr th:only-of-type {\n",
       "        vertical-align: middle;\n",
       "    }\n",
       "\n",
       "    .dataframe tbody tr th {\n",
       "        vertical-align: top;\n",
       "    }\n",
       "\n",
       "    .dataframe thead th {\n",
       "        text-align: right;\n",
       "    }\n",
       "</style>\n",
       "<table border=\"1\" class=\"dataframe\">\n",
       "  <thead>\n",
       "    <tr style=\"text-align: right;\">\n",
       "      <th></th>\n",
       "      <th>gamename</th>\n",
       "      <th>year</th>\n",
       "      <th>month</th>\n",
       "      <th>avg</th>\n",
       "      <th>gain</th>\n",
       "      <th>peak</th>\n",
       "      <th>avg_peak_perc</th>\n",
       "      <th>date</th>\n",
       "    </tr>\n",
       "  </thead>\n",
       "  <tbody>\n",
       "    <tr>\n",
       "      <th>0</th>\n",
       "      <td>Counter-Strike: Global Offensive</td>\n",
       "      <td>2021</td>\n",
       "      <td>February</td>\n",
       "      <td>741013.24</td>\n",
       "      <td>-2196.42</td>\n",
       "      <td>1123485</td>\n",
       "      <td>65.9567%</td>\n",
       "      <td>2021-02-01</td>\n",
       "    </tr>\n",
       "    <tr>\n",
       "      <th>1</th>\n",
       "      <td>Counter-Strike: Global Offensive</td>\n",
       "      <td>2021</td>\n",
       "      <td>January</td>\n",
       "      <td>743209.66</td>\n",
       "      <td>25405.91</td>\n",
       "      <td>1124553</td>\n",
       "      <td>66.0893%</td>\n",
       "      <td>2021-01-01</td>\n",
       "    </tr>\n",
       "    <tr>\n",
       "      <th>2</th>\n",
       "      <td>Counter-Strike: Global Offensive</td>\n",
       "      <td>2020</td>\n",
       "      <td>December</td>\n",
       "      <td>717803.75</td>\n",
       "      <td>49049.17</td>\n",
       "      <td>1164396</td>\n",
       "      <td>61.646%</td>\n",
       "      <td>2020-12-01</td>\n",
       "    </tr>\n",
       "    <tr>\n",
       "      <th>3</th>\n",
       "      <td>Counter-Strike: Global Offensive</td>\n",
       "      <td>2020</td>\n",
       "      <td>November</td>\n",
       "      <td>668754.58</td>\n",
       "      <td>55087.89</td>\n",
       "      <td>1037464</td>\n",
       "      <td>64.4605%</td>\n",
       "      <td>2020-11-01</td>\n",
       "    </tr>\n",
       "    <tr>\n",
       "      <th>4</th>\n",
       "      <td>Counter-Strike: Global Offensive</td>\n",
       "      <td>2020</td>\n",
       "      <td>October</td>\n",
       "      <td>613666.69</td>\n",
       "      <td>6816.37</td>\n",
       "      <td>943876</td>\n",
       "      <td>65.0156%</td>\n",
       "      <td>2020-10-01</td>\n",
       "    </tr>\n",
       "  </tbody>\n",
       "</table>\n",
       "</div>"
      ],
      "text/plain": [
       "                           gamename  year     month        avg      gain  \\\n",
       "0  Counter-Strike: Global Offensive  2021  February  741013.24  -2196.42   \n",
       "1  Counter-Strike: Global Offensive  2021   January  743209.66  25405.91   \n",
       "2  Counter-Strike: Global Offensive  2020  December  717803.75  49049.17   \n",
       "3  Counter-Strike: Global Offensive  2020  November  668754.58  55087.89   \n",
       "4  Counter-Strike: Global Offensive  2020   October  613666.69   6816.37   \n",
       "\n",
       "      peak avg_peak_perc       date  \n",
       "0  1123485      65.9567% 2021-02-01  \n",
       "1  1124553      66.0893% 2021-01-01  \n",
       "2  1164396       61.646% 2020-12-01  \n",
       "3  1037464      64.4605% 2020-11-01  \n",
       "4   943876      65.0156% 2020-10-01  "
      ]
     },
     "execution_count": 19,
     "metadata": {},
     "output_type": "execute_result"
    }
   ],
   "source": [
    "df_top_games_covid.head()"
   ]
  },
  {
   "cell_type": "code",
   "execution_count": 20,
   "id": "e68abc3b-3496-44e4-86a2-6fe4b5263b7f",
   "metadata": {},
   "outputs": [
    {
     "name": "stdout",
     "output_type": "stream",
     "text": [
      "Tenemos datos de 1 año\n"
     ]
    }
   ],
   "source": [
    "#Rango de años recogidos en el dataset\n",
    "year_data = max(df_top_games_covid['year'])-min(df_top_games_covid['year'])\n",
    "print(\"Tenemos datos de %d año\" % year_data)"
   ]
  },
  {
   "cell_type": "code",
   "execution_count": 32,
   "id": "6e9b01b6-efc4-479b-a26e-13bce7de9ded",
   "metadata": {},
   "outputs": [
    {
     "data": {
      "text/html": [
       "<div>\n",
       "<style scoped>\n",
       "    .dataframe tbody tr th:only-of-type {\n",
       "        vertical-align: middle;\n",
       "    }\n",
       "\n",
       "    .dataframe tbody tr th {\n",
       "        vertical-align: top;\n",
       "    }\n",
       "\n",
       "    .dataframe thead th {\n",
       "        text-align: right;\n",
       "    }\n",
       "</style>\n",
       "<table border=\"1\" class=\"dataframe\">\n",
       "  <thead>\n",
       "    <tr style=\"text-align: right;\">\n",
       "      <th></th>\n",
       "      <th>gamename</th>\n",
       "      <th>avg</th>\n",
       "    </tr>\n",
       "  </thead>\n",
       "  <tbody>\n",
       "    <tr>\n",
       "      <th>0</th>\n",
       "      <td>100% Orange Juice</td>\n",
       "      <td>5218.48</td>\n",
       "    </tr>\n",
       "    <tr>\n",
       "      <th>1</th>\n",
       "      <td>12 is Better Than 6</td>\n",
       "      <td>88.83</td>\n",
       "    </tr>\n",
       "    <tr>\n",
       "      <th>2</th>\n",
       "      <td>140</td>\n",
       "      <td>42.45</td>\n",
       "    </tr>\n",
       "    <tr>\n",
       "      <th>3</th>\n",
       "      <td>60 Seconds!</td>\n",
       "      <td>484.82</td>\n",
       "    </tr>\n",
       "    <tr>\n",
       "      <th>4</th>\n",
       "      <td>7 Days to Die</td>\n",
       "      <td>274368.68</td>\n",
       "    </tr>\n",
       "  </tbody>\n",
       "</table>\n",
       "</div>"
      ],
      "text/plain": [
       "              gamename        avg\n",
       "0    100% Orange Juice    5218.48\n",
       "1  12 is Better Than 6      88.83\n",
       "2                  140      42.45\n",
       "3          60 Seconds!     484.82\n",
       "4        7 Days to Die  274368.68"
      ]
     },
     "execution_count": 32,
     "metadata": {},
     "output_type": "execute_result"
    }
   ],
   "source": [
    "df_games_covid19 = df_top_games_covid.groupby(['gamename'])['avg'].sum().reset_index()\n",
    "df_games_covid19.head()"
   ]
  },
  {
   "cell_type": "code",
   "execution_count": 34,
   "id": "d4644b1b-8dd9-40b5-9587-66e63e36963c",
   "metadata": {},
   "outputs": [
    {
     "data": {
      "image/png": "[encoded data removed]",
      "text/plain": [
       "<Figure size 432x288 with 1 Axes>"
      ]
     },
     "metadata": {
      "needs_background": "light"
     },
     "output_type": "display_data"
    }
   ],
   "source": [
    "df_top10_games_covid19 = df_games_covid19.sort_values('avg', ascending=False).head(15).plot(kind='barh', y='avg', x='gamename')\n",
    "plt.xlabel(\"Average players\")\n",
    "plt.ylabel(\"Game\");"
   ]
  }
 ],
 "metadata": {
  "kernelspec": {
   "display_name": "Python 3",
   "language": "python",
   "name": "python3"
  },
  "language_info": {
   "codemirror_mode": {
    "name": "ipython",
    "version": 3
   },
   "file_extension": ".py",
   "mimetype": "text/x-python",
   "name": "python",
   "nbconvert_exporter": "python",
   "pygments_lexer": "ipython3",
   "version": "3.9.4"
  }
 },
 "nbformat": 4,
 "nbformat_minor": 5
}
